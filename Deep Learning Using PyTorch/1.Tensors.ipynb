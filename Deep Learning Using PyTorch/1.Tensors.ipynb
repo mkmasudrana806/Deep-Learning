{
 "cells": [
  {
   "cell_type": "code",
   "execution_count": 1,
   "metadata": {
    "colab": {
     "base_uri": "https://localhost:8080/"
    },
    "executionInfo": {
     "elapsed": 4728,
     "status": "ok",
     "timestamp": 1740032646916,
     "user": {
      "displayName": "Md Masud Rana GUB",
      "userId": "14207477694270542702"
     },
     "user_tz": -360
    },
    "id": "aYb3Yw-jYItX",
    "outputId": "eb473b9a-9818-4b52-a87d-aa5d756c62fb"
   },
   "outputs": [
    {
     "name": "stdout",
     "output_type": "stream",
     "text": [
      "2.5.1+cu124\n"
     ]
    }
   ],
   "source": [
    "import torch\n",
    "print(torch.__version__)"
   ]
  },
  {
   "cell_type": "code",
   "execution_count": 2,
   "metadata": {
    "colab": {
     "base_uri": "https://localhost:8080/"
    },
    "executionInfo": {
     "elapsed": 35,
     "status": "ok",
     "timestamp": 1740032646952,
     "user": {
      "displayName": "Md Masud Rana GUB",
      "userId": "14207477694270542702"
     },
     "user_tz": -360
    },
    "id": "8OXeWMvtYUxv",
    "outputId": "b6e8c3c2-4c6a-4b79-860e-ea87a36cb2c3"
   },
   "outputs": [
    {
     "name": "stdout",
     "output_type": "stream",
     "text": [
      "GPU is available!\n",
      "using GPU: Tesla T4\n"
     ]
    }
   ],
   "source": [
    "if torch.cuda.is_available():\n",
    "  print(f\"GPU is available!\")\n",
    "  print(f\"using GPU: {torch.cuda.get_device_name(0)}\")\n",
    "\n",
    "else:\n",
    "  print(f\"GPU not availabel. using CPU!\")"
   ]
  },
  {
   "cell_type": "markdown",
   "metadata": {
    "id": "bWNpDFlrZDJ3"
   },
   "source": [
    "# Creating a Tensor"
   ]
  },
  {
   "cell_type": "code",
   "execution_count": 3,
   "metadata": {
    "colab": {
     "base_uri": "https://localhost:8080/"
    },
    "executionInfo": {
     "elapsed": 83,
     "status": "ok",
     "timestamp": 1740032647036,
     "user": {
      "displayName": "Md Masud Rana GUB",
      "userId": "14207477694270542702"
     },
     "user_tz": -360
    },
    "id": "1GeYz7sRZFbv",
    "outputId": "1baa36eb-2cb9-4c62-bb4e-2c0a8904143c"
   },
   "outputs": [
    {
     "name": "stdout",
     "output_type": "stream",
     "text": [
      "tensor([[0., 0., 0.],\n",
      "        [0., 0., 0.]])\n"
     ]
    }
   ],
   "source": [
    "# using empty\n",
    "a = torch.empty(2, 3)\n",
    "print(a)"
   ]
  },
  {
   "cell_type": "code",
   "execution_count": 4,
   "metadata": {
    "colab": {
     "base_uri": "https://localhost:8080/"
    },
    "executionInfo": {
     "elapsed": 23,
     "status": "ok",
     "timestamp": 1740032647062,
     "user": {
      "displayName": "Md Masud Rana GUB",
      "userId": "14207477694270542702"
     },
     "user_tz": -360
    },
    "id": "nlOH07ShZZBf",
    "outputId": "f1101729-15b3-4612-9cc5-f4f263fbacf5"
   },
   "outputs": [
    {
     "data": {
      "text/plain": [
       "torch.Tensor"
      ]
     },
     "execution_count": 4,
     "metadata": {},
     "output_type": "execute_result"
    }
   ],
   "source": [
    "# check type\n",
    "type(a)"
   ]
  },
  {
   "cell_type": "code",
   "execution_count": 5,
   "metadata": {
    "colab": {
     "base_uri": "https://localhost:8080/"
    },
    "executionInfo": {
     "elapsed": 7,
     "status": "ok",
     "timestamp": 1740032647070,
     "user": {
      "displayName": "Md Masud Rana GUB",
      "userId": "14207477694270542702"
     },
     "user_tz": -360
    },
    "id": "DBibu5rkZg1P",
    "outputId": "8114f3bd-e1b7-4fee-863d-b4ab512071ed"
   },
   "outputs": [
    {
     "data": {
      "text/plain": [
       "tensor([[0., 0., 0.],\n",
       "        [0., 0., 0.]])"
      ]
     },
     "execution_count": 5,
     "metadata": {},
     "output_type": "execute_result"
    }
   ],
   "source": [
    "# using zeros\n",
    "torch.zeros(2, 3)"
   ]
  },
  {
   "cell_type": "code",
   "execution_count": 6,
   "metadata": {
    "colab": {
     "base_uri": "https://localhost:8080/"
    },
    "executionInfo": {
     "elapsed": 313,
     "status": "ok",
     "timestamp": 1740032647384,
     "user": {
      "displayName": "Md Masud Rana GUB",
      "userId": "14207477694270542702"
     },
     "user_tz": -360
    },
    "id": "IW_KNC5HZrG_",
    "outputId": "5003a5d5-9a1f-4f02-a3ee-0aa03d3103fe"
   },
   "outputs": [
    {
     "data": {
      "text/plain": [
       "tensor([[1., 1., 1.],\n",
       "        [1., 1., 1.]])"
      ]
     },
     "execution_count": 6,
     "metadata": {},
     "output_type": "execute_result"
    }
   ],
   "source": [
    "# using ones\n",
    "torch.ones(2, 3)"
   ]
  },
  {
   "cell_type": "code",
   "execution_count": 7,
   "metadata": {
    "colab": {
     "base_uri": "https://localhost:8080/"
    },
    "executionInfo": {
     "elapsed": 158,
     "status": "ok",
     "timestamp": 1740032647385,
     "user": {
      "displayName": "Md Masud Rana GUB",
      "userId": "14207477694270542702"
     },
     "user_tz": -360
    },
    "id": "eL3cxU0YZwVX",
    "outputId": "92d041f0-b15a-4d21-ca25-14692caeb21e"
   },
   "outputs": [
    {
     "data": {
      "text/plain": [
       "tensor([[0.7517, 0.4055, 0.4336],\n",
       "        [0.0248, 0.1388, 0.5177]])"
      ]
     },
     "execution_count": 7,
     "metadata": {},
     "output_type": "execute_result"
    }
   ],
   "source": [
    "# using rand\n",
    "torch.rand(2, 3)"
   ]
  },
  {
   "cell_type": "code",
   "execution_count": 8,
   "metadata": {
    "colab": {
     "base_uri": "https://localhost:8080/"
    },
    "executionInfo": {
     "elapsed": 157,
     "status": "ok",
     "timestamp": 1740032647385,
     "user": {
      "displayName": "Md Masud Rana GUB",
      "userId": "14207477694270542702"
     },
     "user_tz": -360
    },
    "id": "eW34Ssn0Z90e",
    "outputId": "0dd8b774-119d-4bb2-fddc-d96ae4ed249c"
   },
   "outputs": [
    {
     "data": {
      "text/plain": [
       "tensor([[0.1117, 0.8158, 0.2626],\n",
       "        [0.4839, 0.6765, 0.7539]])"
      ]
     },
     "execution_count": 8,
     "metadata": {},
     "output_type": "execute_result"
    }
   ],
   "source": [
    "# manual_seed\n",
    "torch.manual_seed(100)\n",
    "torch.rand(2, 3)"
   ]
  },
  {
   "cell_type": "code",
   "execution_count": 9,
   "metadata": {
    "colab": {
     "base_uri": "https://localhost:8080/"
    },
    "executionInfo": {
     "elapsed": 3,
     "status": "ok",
     "timestamp": 1740032647389,
     "user": {
      "displayName": "Md Masud Rana GUB",
      "userId": "14207477694270542702"
     },
     "user_tz": -360
    },
    "id": "Sn4uzcDmaIwv",
    "outputId": "72738937-92a2-4e93-c49c-270e4e475858"
   },
   "outputs": [
    {
     "data": {
      "text/plain": [
       "tensor([[1, 2, 3],\n",
       "        [4, 5, 6]])"
      ]
     },
     "execution_count": 9,
     "metadata": {},
     "output_type": "execute_result"
    }
   ],
   "source": [
    "# using tensor\n",
    "torch.tensor([[1, 2, 3], [4, 5, 6]])"
   ]
  },
  {
   "cell_type": "code",
   "execution_count": 10,
   "metadata": {
    "colab": {
     "base_uri": "https://localhost:8080/"
    },
    "executionInfo": {
     "elapsed": 15,
     "status": "ok",
     "timestamp": 1740032647405,
     "user": {
      "displayName": "Md Masud Rana GUB",
      "userId": "14207477694270542702"
     },
     "user_tz": -360
    },
    "id": "yndhDSlWaQIX",
    "outputId": "1b3afa38-e44a-4f7c-92f5-5345d0e426dc"
   },
   "outputs": [
    {
     "name": "stdout",
     "output_type": "stream",
     "text": [
      "using arange ->  tensor([0, 2, 4, 6, 8])\n",
      "using linspace ->  tensor([ 0.0000,  1.1111,  2.2222,  3.3333,  4.4444,  5.5556,  6.6667,  7.7778,\n",
      "         8.8889, 10.0000])\n",
      "using eye ->  tensor([[1., 0., 0., 0., 0.],\n",
      "        [0., 1., 0., 0., 0.],\n",
      "        [0., 0., 1., 0., 0.],\n",
      "        [0., 0., 0., 1., 0.],\n",
      "        [0., 0., 0., 0., 1.]])\n",
      "using full ->  tensor([[10, 10, 10, 10, 10],\n",
      "        [10, 10, 10, 10, 10],\n",
      "        [10, 10, 10, 10, 10]])\n"
     ]
    }
   ],
   "source": [
    "# other ways\n",
    "# arange\n",
    "print(\"using arange -> \", torch.arange(0, 10, 2))\n",
    "\n",
    "# suing linspace\n",
    "print(\"using linspace -> \", torch.linspace(0, 10, 10)) # 1d array with 0 to 10 values evenly\n",
    "\n",
    "# using eye\n",
    "print(\"using eye -> \", torch.eye(5)) # identity matrix\n",
    "\n",
    "# using full\n",
    "print(\"using full -> \", torch.full((3, 5), 10)) # 3 by 5 matrix fill with 10"
   ]
  },
  {
   "cell_type": "markdown",
   "metadata": {
    "id": "NOqMXcrftbRx"
   },
   "source": [
    "# Tensor Shape"
   ]
  },
  {
   "cell_type": "code",
   "execution_count": 11,
   "metadata": {
    "colab": {
     "base_uri": "https://localhost:8080/"
    },
    "executionInfo": {
     "elapsed": 184,
     "status": "ok",
     "timestamp": 1740032647590,
     "user": {
      "displayName": "Md Masud Rana GUB",
      "userId": "14207477694270542702"
     },
     "user_tz": -360
    },
    "id": "jdXDR3oMnnmk",
    "outputId": "24d18a22-7428-44fb-fcc6-2421ddaed415"
   },
   "outputs": [
    {
     "data": {
      "text/plain": [
       "torch.Size([2, 3])"
      ]
     },
     "execution_count": 11,
     "metadata": {},
     "output_type": "execute_result"
    }
   ],
   "source": [
    "x = torch.tensor([[1, 2, 3], [4, 5, 6]])\n",
    "x.shape # [2, 3] 2 rows, 3 column"
   ]
  },
  {
   "cell_type": "code",
   "execution_count": 12,
   "metadata": {
    "colab": {
     "base_uri": "https://localhost:8080/"
    },
    "executionInfo": {
     "elapsed": 16,
     "status": "ok",
     "timestamp": 1740032647605,
     "user": {
      "displayName": "Md Masud Rana GUB",
      "userId": "14207477694270542702"
     },
     "user_tz": -360
    },
    "id": "k2ALFVCFtmCo",
    "outputId": "c16564a0-3687-4d08-afc6-b548d9981a92"
   },
   "outputs": [
    {
     "data": {
      "text/plain": [
       "tensor([[7309453675965983778, 8315168162784306286, 8367752027310484831],\n",
       "        [7954801838398993778, 2459029315949324647, 7148961061476054114]])"
      ]
     },
     "execution_count": 12,
     "metadata": {},
     "output_type": "execute_result"
    }
   ],
   "source": [
    "torch.empty_like(x) # copy the shape of x. values will be different"
   ]
  },
  {
   "cell_type": "code",
   "execution_count": 13,
   "metadata": {
    "colab": {
     "base_uri": "https://localhost:8080/"
    },
    "executionInfo": {
     "elapsed": 5,
     "status": "ok",
     "timestamp": 1740032647611,
     "user": {
      "displayName": "Md Masud Rana GUB",
      "userId": "14207477694270542702"
     },
     "user_tz": -360
    },
    "id": "GOuRAsykt05o",
    "outputId": "a34e14a1-0a80-4866-d293-65081eacfcd1"
   },
   "outputs": [
    {
     "data": {
      "text/plain": [
       "tensor([[0, 0, 0],\n",
       "        [0, 0, 0]])"
      ]
     },
     "execution_count": 13,
     "metadata": {},
     "output_type": "execute_result"
    }
   ],
   "source": [
    "torch.zeros_like(x) # same shape of x"
   ]
  },
  {
   "cell_type": "code",
   "execution_count": 14,
   "metadata": {
    "colab": {
     "base_uri": "https://localhost:8080/"
    },
    "executionInfo": {
     "elapsed": 14,
     "status": "ok",
     "timestamp": 1740032647624,
     "user": {
      "displayName": "Md Masud Rana GUB",
      "userId": "14207477694270542702"
     },
     "user_tz": -360
    },
    "id": "h1NTYCJPt7Mg",
    "outputId": "45327cf2-e25e-4269-b7e5-17117aef55ed"
   },
   "outputs": [
    {
     "data": {
      "text/plain": [
       "tensor([[1, 1, 1],\n",
       "        [1, 1, 1]])"
      ]
     },
     "execution_count": 14,
     "metadata": {},
     "output_type": "execute_result"
    }
   ],
   "source": [
    "torch.ones_like(x)"
   ]
  },
  {
   "cell_type": "code",
   "execution_count": 15,
   "metadata": {
    "colab": {
     "base_uri": "https://localhost:8080/"
    },
    "executionInfo": {
     "elapsed": 4,
     "status": "ok",
     "timestamp": 1740032647625,
     "user": {
      "displayName": "Md Masud Rana GUB",
      "userId": "14207477694270542702"
     },
     "user_tz": -360
    },
    "id": "B7gK1aWbt-DA",
    "outputId": "b8362f62-609b-4429-c1c0-b6114f59fc63"
   },
   "outputs": [
    {
     "data": {
      "text/plain": [
       "tensor([[0.2627, 0.0428, 0.2080],\n",
       "        [0.1180, 0.1217, 0.7356]])"
      ]
     },
     "execution_count": 15,
     "metadata": {},
     "output_type": "execute_result"
    }
   ],
   "source": [
    "torch.rand_like(x, dtype=torch.float32) # gives error. because x is integer. but rand generate float\n"
   ]
  },
  {
   "cell_type": "markdown",
   "metadata": {
    "id": "MBxx4QbQuM6Y"
   },
   "source": [
    "# Tensor Data Types"
   ]
  },
  {
   "cell_type": "code",
   "execution_count": 16,
   "metadata": {
    "colab": {
     "base_uri": "https://localhost:8080/"
    },
    "executionInfo": {
     "elapsed": 4,
     "status": "ok",
     "timestamp": 1740032647628,
     "user": {
      "displayName": "Md Masud Rana GUB",
      "userId": "14207477694270542702"
     },
     "user_tz": -360
    },
    "id": "z-YwEChNuOkA",
    "outputId": "80e69e31-b3bd-45c6-e3b0-107bd46aa921"
   },
   "outputs": [
    {
     "data": {
      "text/plain": [
       "torch.int64"
      ]
     },
     "execution_count": 16,
     "metadata": {},
     "output_type": "execute_result"
    }
   ],
   "source": [
    "# find data type\n",
    "x.dtype"
   ]
  },
  {
   "cell_type": "code",
   "execution_count": 17,
   "metadata": {
    "colab": {
     "base_uri": "https://localhost:8080/"
    },
    "executionInfo": {
     "elapsed": 12,
     "status": "ok",
     "timestamp": 1740032647640,
     "user": {
      "displayName": "Md Masud Rana GUB",
      "userId": "14207477694270542702"
     },
     "user_tz": -360
    },
    "id": "ORjuBA-9uS43",
    "outputId": "6ff46f80-d3c6-46fb-fe7b-11abaa383fcf"
   },
   "outputs": [
    {
     "data": {
      "text/plain": [
       "tensor([1, 2, 3], dtype=torch.int32)"
      ]
     },
     "execution_count": 17,
     "metadata": {},
     "output_type": "execute_result"
    }
   ],
   "source": [
    "# tensor data type at creation\n",
    "# float to integer\n",
    "torch.tensor([1.0, 2.0, 3.0], dtype=torch.int32)"
   ]
  },
  {
   "cell_type": "code",
   "execution_count": 18,
   "metadata": {
    "colab": {
     "base_uri": "https://localhost:8080/"
    },
    "executionInfo": {
     "elapsed": 3,
     "status": "ok",
     "timestamp": 1740032647643,
     "user": {
      "displayName": "Md Masud Rana GUB",
      "userId": "14207477694270542702"
     },
     "user_tz": -360
    },
    "id": "NsnkgIWTuhyw",
    "outputId": "678650d4-be36-4bda-e597-66307967a90b"
   },
   "outputs": [
    {
     "data": {
      "text/plain": [
       "tensor([1., 2., 3.])"
      ]
     },
     "execution_count": 18,
     "metadata": {},
     "output_type": "execute_result"
    }
   ],
   "source": [
    "# integer to float\n",
    "torch.tensor([1, 2, 3], dtype=torch.float32)"
   ]
  },
  {
   "cell_type": "code",
   "execution_count": 19,
   "metadata": {
    "colab": {
     "base_uri": "https://localhost:8080/"
    },
    "executionInfo": {
     "elapsed": 27,
     "status": "ok",
     "timestamp": 1740032647670,
     "user": {
      "displayName": "Md Masud Rana GUB",
      "userId": "14207477694270542702"
     },
     "user_tz": -360
    },
    "id": "g0TEzdgPusSY",
    "outputId": "136a648e-bf44-47f1-9097-9be852530434"
   },
   "outputs": [
    {
     "data": {
      "text/plain": [
       "tensor([[0, 0, 0],\n",
       "        [0, 0, 0]], dtype=torch.int32)"
      ]
     },
     "execution_count": 19,
     "metadata": {},
     "output_type": "execute_result"
    }
   ],
   "source": [
    "# using to()\n",
    "y = torch.empty(2, 3)\n",
    "y\n",
    "\n",
    "y.to(torch.int32)"
   ]
  },
  {
   "cell_type": "code",
   "execution_count": 19,
   "metadata": {
    "executionInfo": {
     "elapsed": 1,
     "status": "ok",
     "timestamp": 1740032647672,
     "user": {
      "displayName": "Md Masud Rana GUB",
      "userId": "14207477694270542702"
     },
     "user_tz": -360
    },
    "id": "6-MerF0Wu-8I"
   },
   "outputs": [],
   "source": []
  },
  {
   "cell_type": "markdown",
   "metadata": {
    "id": "Fi_SNLENvuNf"
   },
   "source": [
    "# Mathematical operations"
   ]
  },
  {
   "cell_type": "markdown",
   "metadata": {
    "id": "A-eLR1GXvxPX"
   },
   "source": [
    "## 1. Scaler operation"
   ]
  },
  {
   "cell_type": "code",
   "execution_count": 20,
   "metadata": {
    "colab": {
     "base_uri": "https://localhost:8080/"
    },
    "executionInfo": {
     "elapsed": 64,
     "status": "ok",
     "timestamp": 1740032647737,
     "user": {
      "displayName": "Md Masud Rana GUB",
      "userId": "14207477694270542702"
     },
     "user_tz": -360
    },
    "id": "gNwQf40_vwFP",
    "outputId": "3b2f4781-2ca9-40f4-8d47-1328c657180e"
   },
   "outputs": [
    {
     "data": {
      "text/plain": [
       "tensor([[0.7118, 0.7876],\n",
       "        [0.4183, 0.9014]])"
      ]
     },
     "execution_count": 20,
     "metadata": {},
     "output_type": "execute_result"
    }
   ],
   "source": [
    "x = torch.rand(2, 2)\n",
    "x"
   ]
  },
  {
   "cell_type": "code",
   "execution_count": 21,
   "metadata": {
    "colab": {
     "base_uri": "https://localhost:8080/"
    },
    "executionInfo": {
     "elapsed": 9,
     "status": "ok",
     "timestamp": 1740032647738,
     "user": {
      "displayName": "Md Masud Rana GUB",
      "userId": "14207477694270542702"
     },
     "user_tz": -360
    },
    "id": "dyXHALsBv3-f",
    "outputId": "69300a60-d4e0-4574-d1c2-609e29aec382"
   },
   "outputs": [
    {
     "data": {
      "text/plain": [
       "tensor([[0.5066, 0.6203],\n",
       "        [0.1750, 0.8125]])"
      ]
     },
     "execution_count": 21,
     "metadata": {},
     "output_type": "execute_result"
    }
   ],
   "source": [
    "# addition\n",
    "x + 2\n",
    "\n",
    "# subtruction\n",
    "x - 2\n",
    "\n",
    "# multiplication\n",
    "x * 2\n",
    "\n",
    "# division\n",
    "\n",
    "x / 3\n",
    "\n",
    "# int division\n",
    "\n",
    "(x * 100 ) // 3\n",
    "\n",
    "# mod\n",
    "(((x * 100))//3)%2\n",
    "\n",
    "# power\n",
    "x ** 2\n"
   ]
  },
  {
   "cell_type": "markdown",
   "metadata": {
    "id": "2EffeEqywhDA"
   },
   "source": [
    "## 2. Element wise operation"
   ]
  },
  {
   "cell_type": "code",
   "execution_count": 22,
   "metadata": {
    "colab": {
     "base_uri": "https://localhost:8080/"
    },
    "executionInfo": {
     "elapsed": 4,
     "status": "ok",
     "timestamp": 1740032647739,
     "user": {
      "displayName": "Md Masud Rana GUB",
      "userId": "14207477694270542702"
     },
     "user_tz": -360
    },
    "id": "bAWe3bC8wAEu",
    "outputId": "4fd48c5e-ad7b-48dd-db1a-045e0bf965f4"
   },
   "outputs": [
    {
     "name": "stdout",
     "output_type": "stream",
     "text": [
      "tensor([[0.9969, 0.7565, 0.2239],\n",
      "        [0.3023, 0.1784, 0.8238]])\n",
      "tensor([[0.5557, 0.9770, 0.4440],\n",
      "        [0.9478, 0.7445, 0.4892]])\n"
     ]
    }
   ],
   "source": [
    "# Note: shape must be same\n",
    "a = torch.rand(2, 3)\n",
    "b = torch.rand(2, 3)\n",
    "\n",
    "\n",
    "print(a)\n",
    "print(b)"
   ]
  },
  {
   "cell_type": "code",
   "execution_count": 23,
   "metadata": {
    "colab": {
     "base_uri": "https://localhost:8080/"
    },
    "executionInfo": {
     "elapsed": 3,
     "status": "ok",
     "timestamp": 1740032647741,
     "user": {
      "displayName": "Md Masud Rana GUB",
      "userId": "14207477694270542702"
     },
     "user_tz": -360
    },
    "id": "0A3V0eJ5wu0f",
    "outputId": "fdb1a925-9160-469f-8590-f45f52d2543e"
   },
   "outputs": [
    {
     "data": {
      "text/plain": [
       "tensor([[0.4411, 0.7565, 0.2239],\n",
       "        [0.3023, 0.1784, 0.3346]])"
      ]
     },
     "execution_count": 23,
     "metadata": {},
     "output_type": "execute_result"
    }
   ],
   "source": [
    "# addition\n",
    "a + b\n",
    "\n",
    "# subtruction\n",
    "a - b\n",
    "\n",
    "# multiplication\n",
    "a * b\n",
    "\n",
    "# division\n",
    "a / b\n",
    "\n",
    "# power\n",
    "a ** b\n",
    "\n",
    "# mod\n",
    "a % b"
   ]
  },
  {
   "cell_type": "markdown",
   "metadata": {
    "id": "5WIGQlhxxfbO"
   },
   "source": [
    "## Atomic operation"
   ]
  },
  {
   "cell_type": "code",
   "execution_count": 24,
   "metadata": {
    "colab": {
     "base_uri": "https://localhost:8080/"
    },
    "executionInfo": {
     "elapsed": 11,
     "status": "ok",
     "timestamp": 1740032647753,
     "user": {
      "displayName": "Md Masud Rana GUB",
      "userId": "14207477694270542702"
     },
     "user_tz": -360
    },
    "id": "g40FOFpxxerX",
    "outputId": "8eaeba51-b864-4bc3-dda5-8907967b304b"
   },
   "outputs": [
    {
     "data": {
      "text/plain": [
       "tensor([1, 2, 3, 9, 4])"
      ]
     },
     "execution_count": 24,
     "metadata": {},
     "output_type": "execute_result"
    }
   ],
   "source": [
    "# abs\n",
    "c = torch.tensor([1, -2, 3, 9, -4])\n",
    "torch.abs(c)"
   ]
  },
  {
   "cell_type": "code",
   "execution_count": 25,
   "metadata": {
    "colab": {
     "base_uri": "https://localhost:8080/"
    },
    "executionInfo": {
     "elapsed": 34,
     "status": "ok",
     "timestamp": 1740032647792,
     "user": {
      "displayName": "Md Masud Rana GUB",
      "userId": "14207477694270542702"
     },
     "user_tz": -360
    },
    "id": "TuxgmTIMxqUO",
    "outputId": "6eaeab5f-ea52-4b41-c1eb-a146cad38094"
   },
   "outputs": [
    {
     "data": {
      "text/plain": [
       "tensor([2., 3., 9.])"
      ]
     },
     "execution_count": 25,
     "metadata": {},
     "output_type": "execute_result"
    }
   ],
   "source": [
    "# round\n",
    "d = torch.tensor([2.0, 3.2, 9.234])\n",
    "torch.round(d)"
   ]
  },
  {
   "cell_type": "code",
   "execution_count": 26,
   "metadata": {
    "colab": {
     "base_uri": "https://localhost:8080/"
    },
    "executionInfo": {
     "elapsed": 5,
     "status": "ok",
     "timestamp": 1740032647798,
     "user": {
      "displayName": "Md Masud Rana GUB",
      "userId": "14207477694270542702"
     },
     "user_tz": -360
    },
    "id": "9VbU_lu7xw5e",
    "outputId": "55a3f3c3-9167-450e-f74b-8bae64021c27"
   },
   "outputs": [
    {
     "data": {
      "text/plain": [
       "tensor([2., 3., 9.])"
      ]
     },
     "execution_count": 26,
     "metadata": {},
     "output_type": "execute_result"
    }
   ],
   "source": [
    "# floor\n",
    "torch.floor(d)"
   ]
  },
  {
   "cell_type": "code",
   "execution_count": 27,
   "metadata": {
    "colab": {
     "base_uri": "https://localhost:8080/"
    },
    "executionInfo": {
     "elapsed": 12,
     "status": "ok",
     "timestamp": 1740032647811,
     "user": {
      "displayName": "Md Masud Rana GUB",
      "userId": "14207477694270542702"
     },
     "user_tz": -360
    },
    "id": "GFjdWvB99zgN",
    "outputId": "838dced6-8aee-4f36-95dc-0abd85028056"
   },
   "outputs": [
    {
     "data": {
      "text/plain": [
       "tensor([ 2.,  4., 10.])"
      ]
     },
     "execution_count": 27,
     "metadata": {},
     "output_type": "execute_result"
    }
   ],
   "source": [
    "# ceil\n",
    "torch.ceil(d)"
   ]
  },
  {
   "cell_type": "code",
   "execution_count": 28,
   "metadata": {
    "colab": {
     "base_uri": "https://localhost:8080/"
    },
    "executionInfo": {
     "elapsed": 5,
     "status": "ok",
     "timestamp": 1740032647818,
     "user": {
      "displayName": "Md Masud Rana GUB",
      "userId": "14207477694270542702"
     },
     "user_tz": -360
    },
    "id": "HTkbpvWi92Nt",
    "outputId": "314d3f5e-7840-4a73-e060-eeab070b04ae"
   },
   "outputs": [
    {
     "data": {
      "text/plain": [
       "tensor([2., 3., 3.])"
      ]
     },
     "execution_count": 28,
     "metadata": {},
     "output_type": "execute_result"
    }
   ],
   "source": [
    "# clamp\n",
    "torch.clamp(d, min=2, max=3)"
   ]
  },
  {
   "cell_type": "markdown",
   "metadata": {
    "id": "Mq7lEPax-Sst"
   },
   "source": [
    "# Reduction operation"
   ]
  },
  {
   "cell_type": "code",
   "execution_count": 29,
   "metadata": {
    "colab": {
     "base_uri": "https://localhost:8080/"
    },
    "executionInfo": {
     "elapsed": 16,
     "status": "ok",
     "timestamp": 1740032647834,
     "user": {
      "displayName": "Md Masud Rana GUB",
      "userId": "14207477694270542702"
     },
     "user_tz": -360
    },
    "id": "UvwJ7XS8-R5N",
    "outputId": "511946a3-f138-4d12-9392-972ac7c54790"
   },
   "outputs": [
    {
     "data": {
      "text/plain": [
       "tensor([[8, 0, 7],\n",
       "        [0, 0, 9]])"
      ]
     },
     "execution_count": 29,
     "metadata": {},
     "output_type": "execute_result"
    }
   ],
   "source": [
    "e = torch.randint(size=(2,3), low=0, high=10)\n",
    "e"
   ]
  },
  {
   "cell_type": "code",
   "execution_count": 30,
   "metadata": {
    "colab": {
     "base_uri": "https://localhost:8080/"
    },
    "executionInfo": {
     "elapsed": 5,
     "status": "ok",
     "timestamp": 1740032647840,
     "user": {
      "displayName": "Md Masud Rana GUB",
      "userId": "14207477694270542702"
     },
     "user_tz": -360
    },
    "id": "ERSP_aR--ZC1",
    "outputId": "88e3c46c-3ce1-46cd-dc0a-dc3aa414edbf"
   },
   "outputs": [
    {
     "data": {
      "text/plain": [
       "tensor([15,  9])"
      ]
     },
     "execution_count": 30,
     "metadata": {},
     "output_type": "execute_result"
    }
   ],
   "source": [
    "# sum\n",
    "torch.sum(e)\n",
    "\n",
    "# sum along columns\n",
    "torch.sum(e, dim=0)\n",
    "\n",
    "# sum alogn row\n",
    "torch.sum(e, dim=1)"
   ]
  },
  {
   "cell_type": "code",
   "execution_count": 31,
   "metadata": {
    "colab": {
     "base_uri": "https://localhost:8080/"
    },
    "executionInfo": {
     "elapsed": 4,
     "status": "ok",
     "timestamp": 1740032647845,
     "user": {
      "displayName": "Md Masud Rana GUB",
      "userId": "14207477694270542702"
     },
     "user_tz": -360
    },
    "id": "zr37s1YT_QbF",
    "outputId": "132c9cc8-e639-4f6e-c729-418160b98b96"
   },
   "outputs": [
    {
     "data": {
      "text/plain": [
       "tensor([[5., 7., 3.],\n",
       "        [9., 4., 0.]])"
      ]
     },
     "execution_count": 31,
     "metadata": {},
     "output_type": "execute_result"
    }
   ],
   "source": [
    "# mean (must tensor float)\n",
    "f = torch.randint(size=(2,3), low=0, high=10, dtype=torch.float32)\n",
    "f"
   ]
  },
  {
   "cell_type": "code",
   "execution_count": 32,
   "metadata": {
    "colab": {
     "base_uri": "https://localhost:8080/"
    },
    "executionInfo": {
     "elapsed": 22,
     "status": "ok",
     "timestamp": 1740032647879,
     "user": {
      "displayName": "Md Masud Rana GUB",
      "userId": "14207477694270542702"
     },
     "user_tz": -360
    },
    "id": "qlcIxh50_bed",
    "outputId": "2d3a2977-f55f-4872-9a0d-3c7810213de1"
   },
   "outputs": [
    {
     "name": "stdout",
     "output_type": "stream",
     "text": [
      "tensor([7.0000, 5.5000, 1.5000])\n",
      "tensor([5.0000, 4.3333])\n",
      "tensor(4.6667)\n"
     ]
    }
   ],
   "source": [
    "# mean row\n",
    "print(torch.mean(f, dim=0))\n",
    "\n",
    "# mean column\n",
    "print(torch.mean(f, dim=1))\n",
    "\n",
    "# mean\n",
    "print(torch.mean(f))"
   ]
  },
  {
   "cell_type": "code",
   "execution_count": 33,
   "metadata": {
    "colab": {
     "base_uri": "https://localhost:8080/"
    },
    "executionInfo": {
     "elapsed": 18,
     "status": "ok",
     "timestamp": 1740032647880,
     "user": {
      "displayName": "Md Masud Rana GUB",
      "userId": "14207477694270542702"
     },
     "user_tz": -360
    },
    "id": "BCh1IaiG_2Rd",
    "outputId": "12cfb598-409b-48c9-acd5-b5ba096ac578"
   },
   "outputs": [
    {
     "name": "stdout",
     "output_type": "stream",
     "text": [
      "tensor(4.)\n",
      "tensor(0.)\n",
      "tensor(9.)\n",
      "tensor(0.)\n",
      "tensor(3.1411)\n",
      "tensor(9.8667)\n",
      "tensor(3)\n",
      "tensor(5)\n"
     ]
    }
   ],
   "source": [
    "# median, min, max, product, standard deviation, variance, armax\n",
    "print(torch.median(f))\n",
    "\n",
    "print(torch.min(f))\n",
    "\n",
    "print(torch.max(f))\n",
    "\n",
    "print(torch.prod(f))\n",
    "\n",
    "print(torch.std(f))\n",
    "\n",
    "print(torch.var(f))\n",
    "\n",
    "print(torch.argmax(f))\n",
    "\n",
    "print(torch.argmin(f))\n",
    "\n"
   ]
  },
  {
   "cell_type": "markdown",
   "metadata": {
    "id": "EFZgU9I0AsEd"
   },
   "source": [
    "# matrix, vector"
   ]
  },
  {
   "cell_type": "code",
   "execution_count": 34,
   "metadata": {
    "colab": {
     "base_uri": "https://localhost:8080/"
    },
    "executionInfo": {
     "elapsed": 4,
     "status": "ok",
     "timestamp": 1740032647884,
     "user": {
      "displayName": "Md Masud Rana GUB",
      "userId": "14207477694270542702"
     },
     "user_tz": -360
    },
    "id": "xN7QFv4nAuR9",
    "outputId": "629b4d46-56b3-4317-d737-aca54f9fde8e"
   },
   "outputs": [
    {
     "name": "stdout",
     "output_type": "stream",
     "text": [
      "tensor([[76, 36],\n",
      "        [74, 39]])\n"
     ]
    }
   ],
   "source": [
    "# matrix multiplication\n",
    "x = torch.randint(size=(2,3), low=2, high=9)\n",
    "y = torch.randint(size=(3,2), low=1, high=10)\n",
    "\n",
    "ans = torch.matmul(x, y)\n",
    "print(ans)"
   ]
  },
  {
   "cell_type": "code",
   "execution_count": 35,
   "metadata": {
    "colab": {
     "base_uri": "https://localhost:8080/"
    },
    "executionInfo": {
     "elapsed": 6,
     "status": "ok",
     "timestamp": 1740032647901,
     "user": {
      "displayName": "Md Masud Rana GUB",
      "userId": "14207477694270542702"
     },
     "user_tz": -360
    },
    "id": "naOXJxIVBHbl",
    "outputId": "619ca3fd-f2ed-401e-8edc-5d57c10ba7ae"
   },
   "outputs": [
    {
     "name": "stdout",
     "output_type": "stream",
     "text": [
      "tensor(11)\n"
     ]
    }
   ],
   "source": [
    "# dot product\n",
    "x = torch.tensor([1, 2])\n",
    "y = torch.tensor([3, 4])\n",
    "\n",
    "ans = torch.dot(x, y)\n",
    "print(ans)"
   ]
  },
  {
   "cell_type": "code",
   "execution_count": 36,
   "metadata": {
    "colab": {
     "base_uri": "https://localhost:8080/"
    },
    "executionInfo": {
     "elapsed": 4,
     "status": "ok",
     "timestamp": 1740032647906,
     "user": {
      "displayName": "Md Masud Rana GUB",
      "userId": "14207477694270542702"
     },
     "user_tz": -360
    },
    "id": "05uCU6DXBm1G",
    "outputId": "8921103d-97e5-4293-c46f-614df4348272"
   },
   "outputs": [
    {
     "name": "stdout",
     "output_type": "stream",
     "text": [
      "tensor([[4, 6, 6],\n",
      "        [6, 1, 4]])\n",
      "tensor([[4, 6],\n",
      "        [6, 1],\n",
      "        [6, 4]])\n"
     ]
    }
   ],
   "source": [
    "# transpose\n",
    "a = torch.randint(size=(2, 3), low=1, high=10)\n",
    "print(a)\n",
    "\n",
    "\n",
    "print(torch.transpose(a, 0, 1))\n"
   ]
  },
  {
   "cell_type": "code",
   "execution_count": 37,
   "metadata": {
    "colab": {
     "base_uri": "https://localhost:8080/"
    },
    "executionInfo": {
     "elapsed": 3,
     "status": "ok",
     "timestamp": 1740032647910,
     "user": {
      "displayName": "Md Masud Rana GUB",
      "userId": "14207477694270542702"
     },
     "user_tz": -360
    },
    "id": "BdpbGmlAB-Ot",
    "outputId": "971dfcb5-2bc1-4b88-d393-4b7ed99865d0"
   },
   "outputs": [
    {
     "name": "stdout",
     "output_type": "stream",
     "text": [
      "tensor(42.0000)\n",
      "tensor([[-0.1429,  0.0952,  0.2381],\n",
      "        [ 0.7143, -0.6429,  0.1429],\n",
      "        [-0.1429,  0.2619, -0.0952]])\n"
     ]
    }
   ],
   "source": [
    "# determinent\n",
    "m = torch.randint(size=(3, 3), low=1, high=10, dtype=torch.float32)\n",
    "print(torch.det(m))\n",
    "\n",
    "# inverse\n",
    "print(torch.inverse(m))\n"
   ]
  },
  {
   "cell_type": "code",
   "execution_count": 38,
   "metadata": {
    "colab": {
     "base_uri": "https://localhost:8080/"
    },
    "executionInfo": {
     "elapsed": 8,
     "status": "ok",
     "timestamp": 1740032647918,
     "user": {
      "displayName": "Md Masud Rana GUB",
      "userId": "14207477694270542702"
     },
     "user_tz": -360
    },
    "id": "Gl6CxJlqCnd1",
    "outputId": "f208a994-7d75-4a51-9853-d5352a441591"
   },
   "outputs": [
    {
     "name": "stdout",
     "output_type": "stream",
     "text": [
      "tensor([[False,  True,  True],\n",
      "        [ True,  True, False]])\n",
      "tensor([[ True, False, False],\n",
      "        [False, False,  True]])\n",
      "tensor([[ True, False, False],\n",
      "        [False, False,  True]])\n",
      "tensor([[False,  True,  True],\n",
      "        [ True,  True, False]])\n",
      "tensor([[False, False, False],\n",
      "        [False, False, False]])\n"
     ]
    }
   ],
   "source": [
    "# matrix comparision\n",
    "i = torch.randint(size=(2, 3), low=2, high=10)\n",
    "j = torch.randint(size=(2, 3), low=1, high=20)\n",
    "\n",
    "# less than equal\n",
    "print(i<j)\n",
    "\n",
    "# greater than\n",
    "print(i>j)\n",
    "\n",
    "# greater than equal\n",
    "print(i>=j)\n",
    "\n",
    "# less than equal\n",
    "print(i<=j)\n",
    "\n",
    "# equal to\n",
    "print(i==j)\n",
    "\n"
   ]
  },
  {
   "cell_type": "markdown",
   "metadata": {
    "id": "KPawGrEeDRHd"
   },
   "source": [
    "# Special functions"
   ]
  },
  {
   "cell_type": "code",
   "execution_count": 39,
   "metadata": {
    "colab": {
     "base_uri": "https://localhost:8080/"
    },
    "executionInfo": {
     "elapsed": 23,
     "status": "ok",
     "timestamp": 1740032647963,
     "user": {
      "displayName": "Md Masud Rana GUB",
      "userId": "14207477694270542702"
     },
     "user_tz": -360
    },
    "id": "1n88zOi4DTZ1",
    "outputId": "dcb92723-19d8-4f80-a1ae-0d31b85ec263"
   },
   "outputs": [
    {
     "name": "stdout",
     "output_type": "stream",
     "text": [
      "tensor([[2., 7., 4.],\n",
      "        [8., 3., 7.]])\n"
     ]
    }
   ],
   "source": [
    "k = torch.randint(size=(2, 3), low=2, high=10, dtype=torch.float32)\n",
    "print(k)"
   ]
  },
  {
   "cell_type": "code",
   "execution_count": 40,
   "metadata": {
    "colab": {
     "base_uri": "https://localhost:8080/"
    },
    "executionInfo": {
     "elapsed": 17,
     "status": "ok",
     "timestamp": 1740032647963,
     "user": {
      "displayName": "Md Masud Rana GUB",
      "userId": "14207477694270542702"
     },
     "user_tz": -360
    },
    "id": "LvurJProDYs2",
    "outputId": "a7536cd4-f2da-455c-9be8-cd7636f4c083"
   },
   "outputs": [
    {
     "name": "stdout",
     "output_type": "stream",
     "text": [
      "tensor([[0.6931, 1.9459, 1.3863],\n",
      "        [2.0794, 1.0986, 1.9459]])\n"
     ]
    }
   ],
   "source": [
    "# log\n",
    "print(torch.log(k))"
   ]
  },
  {
   "cell_type": "code",
   "execution_count": 41,
   "metadata": {
    "colab": {
     "base_uri": "https://localhost:8080/"
    },
    "executionInfo": {
     "elapsed": 5,
     "status": "ok",
     "timestamp": 1740032647963,
     "user": {
      "displayName": "Md Masud Rana GUB",
      "userId": "14207477694270542702"
     },
     "user_tz": -360
    },
    "id": "7PnumeXuDbzd",
    "outputId": "53717bcb-e33d-4d67-de60-9179c64a9e93"
   },
   "outputs": [
    {
     "name": "stdout",
     "output_type": "stream",
     "text": [
      "tensor([[   7.3891, 1096.6332,   54.5981],\n",
      "        [2980.9580,   20.0855, 1096.6332]])\n"
     ]
    }
   ],
   "source": [
    "# exp\n",
    "print(torch.exp(k))"
   ]
  },
  {
   "cell_type": "code",
   "execution_count": 42,
   "metadata": {
    "colab": {
     "base_uri": "https://localhost:8080/"
    },
    "executionInfo": {
     "elapsed": 8,
     "status": "ok",
     "timestamp": 1740032647972,
     "user": {
      "displayName": "Md Masud Rana GUB",
      "userId": "14207477694270542702"
     },
     "user_tz": -360
    },
    "id": "2H5yBU1UDeJt",
    "outputId": "6172eb5f-2430-4b24-af73-24b8fabf3c53"
   },
   "outputs": [
    {
     "name": "stdout",
     "output_type": "stream",
     "text": [
      "tensor([[1.4142, 2.6458, 2.0000],\n",
      "        [2.8284, 1.7321, 2.6458]])\n"
     ]
    }
   ],
   "source": [
    "# sqrt\n",
    "print(torch.sqrt(k))"
   ]
  },
  {
   "cell_type": "code",
   "execution_count": 43,
   "metadata": {
    "colab": {
     "base_uri": "https://localhost:8080/"
    },
    "executionInfo": {
     "elapsed": 3,
     "status": "ok",
     "timestamp": 1740032647978,
     "user": {
      "displayName": "Md Masud Rana GUB",
      "userId": "14207477694270542702"
     },
     "user_tz": -360
    },
    "id": "4EenIN8yDiKd",
    "outputId": "bc0ca30c-0612-4ffd-b03e-13c8ad155f6c"
   },
   "outputs": [
    {
     "name": "stdout",
     "output_type": "stream",
     "text": [
      "tensor([[0.8808, 0.9991, 0.9820],\n",
      "        [0.9997, 0.9526, 0.9991]])\n"
     ]
    }
   ],
   "source": [
    "# sigmoids\n",
    "print(torch.sigmoid(k))"
   ]
  },
  {
   "cell_type": "code",
   "execution_count": 44,
   "metadata": {
    "colab": {
     "base_uri": "https://localhost:8080/"
    },
    "executionInfo": {
     "elapsed": 15,
     "status": "ok",
     "timestamp": 1740032647993,
     "user": {
      "displayName": "Md Masud Rana GUB",
      "userId": "14207477694270542702"
     },
     "user_tz": -360
    },
    "id": "L6nyUgnPDlpF",
    "outputId": "99df67c2-d833-42ba-a01e-8fdc6bc7d4d8"
   },
   "outputs": [
    {
     "name": "stdout",
     "output_type": "stream",
     "text": [
      "tensor([[0.0025, 0.9820, 0.0474],\n",
      "        [0.9975, 0.0180, 0.9526]])\n"
     ]
    }
   ],
   "source": [
    "# softmax\n",
    "print(torch.softmax(k, dim=0))"
   ]
  },
  {
   "cell_type": "code",
   "execution_count": 45,
   "metadata": {
    "colab": {
     "base_uri": "https://localhost:8080/"
    },
    "executionInfo": {
     "elapsed": 3,
     "status": "ok",
     "timestamp": 1740032647998,
     "user": {
      "displayName": "Md Masud Rana GUB",
      "userId": "14207477694270542702"
     },
     "user_tz": -360
    },
    "id": "jz_ANSMeDwpl",
    "outputId": "6a2d1a16-1df3-4d6d-e03e-b59f9faac2ca"
   },
   "outputs": [
    {
     "name": "stdout",
     "output_type": "stream",
     "text": [
      "tensor([[2., 7., 4.],\n",
      "        [8., 3., 7.]])\n"
     ]
    }
   ],
   "source": [
    "# relu\n",
    "print(torch.relu(k))"
   ]
  },
  {
   "cell_type": "markdown",
   "metadata": {
    "id": "5yMFYdy-EF_l"
   },
   "source": [
    "# Inplace Operations"
   ]
  },
  {
   "cell_type": "code",
   "execution_count": 46,
   "metadata": {
    "colab": {
     "base_uri": "https://localhost:8080/"
    },
    "executionInfo": {
     "elapsed": 5,
     "status": "ok",
     "timestamp": 1740032648004,
     "user": {
      "displayName": "Md Masud Rana GUB",
      "userId": "14207477694270542702"
     },
     "user_tz": -360
    },
    "id": "0s26xuNoD3oF",
    "outputId": "37474e04-a719-46b9-8a4f-b0365bbffaa1"
   },
   "outputs": [
    {
     "name": "stdout",
     "output_type": "stream",
     "text": [
      "tensor([[0.2855, 0.2324, 0.9141],\n",
      "        [0.7668, 0.1659, 0.4393]])\n",
      "tensor([[0.2243, 0.8935, 0.0497],\n",
      "        [0.1780, 0.3011, 0.1893]])\n",
      "tensor([[0.5098, 1.1259, 0.9638],\n",
      "        [0.9448, 0.4670, 0.6286]])\n",
      "tensor([[0.5098, 1.1259, 0.9638],\n",
      "        [0.9448, 0.4670, 0.6286]])\n",
      "tensor([[0.5098, 1.1259, 0.9638],\n",
      "        [0.9448, 0.4670, 0.6286]])\n"
     ]
    }
   ],
   "source": [
    "m = torch.rand(2, 3)\n",
    "n = torch.rand(2, 3)\n",
    "print(m)\n",
    "\n",
    "print(n)\n",
    "\n",
    "# element wise addition (it makes new memory location. it is problem for huge dataset)\n",
    "print(m+n)\n",
    "\n",
    "# we can store result into m or n\n",
    "print(m.add_(n))\n",
    "\n",
    "print(m) # it will show result"
   ]
  },
  {
   "cell_type": "code",
   "execution_count": 47,
   "metadata": {
    "colab": {
     "base_uri": "https://localhost:8080/"
    },
    "executionInfo": {
     "elapsed": 3,
     "status": "ok",
     "timestamp": 1740032648007,
     "user": {
      "displayName": "Md Masud Rana GUB",
      "userId": "14207477694270542702"
     },
     "user_tz": -360
    },
    "id": "M0mruuI6EL3t",
    "outputId": "12d0d68d-06f0-47c3-bd49-aa67492d8e65"
   },
   "outputs": [
    {
     "name": "stdout",
     "output_type": "stream",
     "text": [
      "tensor([[0.5098, 1.1259, 0.9638],\n",
      "        [0.9448, 0.4670, 0.6286]])\n",
      "tensor([[0.5098, 1.1259, 0.9638],\n",
      "        [0.9448, 0.4670, 0.6286]])\n"
     ]
    }
   ],
   "source": [
    "# similarly if we do relu on tensor, it makes new storage\n",
    "print(torch.relu(m))\n",
    "\n",
    "# we can use reul_. here underscore is inplace operation means store result into that memory\n",
    "print(m.relu_())"
   ]
  },
  {
   "cell_type": "markdown",
   "metadata": {
    "id": "UtPPy_PQf4Dm"
   },
   "source": [
    "# copying tensor"
   ]
  },
  {
   "cell_type": "code",
   "execution_count": 48,
   "metadata": {
    "colab": {
     "base_uri": "https://localhost:8080/"
    },
    "executionInfo": {
     "elapsed": 3,
     "status": "ok",
     "timestamp": 1740032648011,
     "user": {
      "displayName": "Md Masud Rana GUB",
      "userId": "14207477694270542702"
     },
     "user_tz": -360
    },
    "id": "OI3U-ucMf7JQ",
    "outputId": "165eb90e-7521-4dfb-fc5f-f21d95b6eb04"
   },
   "outputs": [
    {
     "name": "stdout",
     "output_type": "stream",
     "text": [
      "tensor([[0.9186, 0.2131, 0.3957],\n",
      "        [0.6017, 0.4234, 0.5224]])\n"
     ]
    }
   ],
   "source": [
    "a = torch.rand(2, 3)\n",
    "print(a)"
   ]
  },
  {
   "cell_type": "code",
   "execution_count": 49,
   "metadata": {
    "colab": {
     "base_uri": "https://localhost:8080/"
    },
    "executionInfo": {
     "elapsed": 3,
     "status": "ok",
     "timestamp": 1740032648014,
     "user": {
      "displayName": "Md Masud Rana GUB",
      "userId": "14207477694270542702"
     },
     "user_tz": -360
    },
    "id": "AGhtJUJff_he",
    "outputId": "667d5b1b-c6a6-4c0b-8535-71a90b7e2b30"
   },
   "outputs": [
    {
     "name": "stdout",
     "output_type": "stream",
     "text": [
      "tensor([[0.9186, 0.2131, 0.3957],\n",
      "        [0.6017, 0.4234, 0.5224]])\n",
      "tensor([[100.0000,   0.2131,   0.3957],\n",
      "        [  0.6017,   0.4234,   0.5224]])\n",
      "tensor([[100.0000,   0.2131,   0.3957],\n",
      "        [  0.6017,   0.4234,   0.5224]])\n"
     ]
    }
   ],
   "source": [
    "# copy using reference. if we change in a, automatically b will be changed\n",
    "b = a\n",
    "print(b)\n",
    "\n",
    "a[0][0] = 100\n",
    "print(a)\n",
    "\n",
    "print(b)"
   ]
  },
  {
   "cell_type": "code",
   "execution_count": 50,
   "metadata": {
    "colab": {
     "base_uri": "https://localhost:8080/"
    },
    "executionInfo": {
     "elapsed": 10,
     "status": "ok",
     "timestamp": 1740032648025,
     "user": {
      "displayName": "Md Masud Rana GUB",
      "userId": "14207477694270542702"
     },
     "user_tz": -360
    },
    "id": "9261p1zQgEgG",
    "outputId": "59103ac5-250b-4d7c-cf2b-4b600c2e40d9"
   },
   "outputs": [
    {
     "name": "stdout",
     "output_type": "stream",
     "text": [
      "133319193222544\n",
      "133319193222544\n"
     ]
    }
   ],
   "source": [
    "print(id(a))\n",
    "\n",
    "print(id(b))"
   ]
  },
  {
   "cell_type": "code",
   "execution_count": 51,
   "metadata": {
    "colab": {
     "base_uri": "https://localhost:8080/"
    },
    "executionInfo": {
     "elapsed": 3,
     "status": "ok",
     "timestamp": 1740032648029,
     "user": {
      "displayName": "Md Masud Rana GUB",
      "userId": "14207477694270542702"
     },
     "user_tz": -360
    },
    "id": "nVP3niK4gdxe",
    "outputId": "f2bb2572-3a84-4bca-e35b-872187f968de"
   },
   "outputs": [
    {
     "name": "stdout",
     "output_type": "stream",
     "text": [
      "tensor([[100.0000,   0.2131,   0.3957],\n",
      "        [  0.6017,   0.4234,   0.5224]])\n",
      "tensor([[100.0000,   0.2131,   0.3957],\n",
      "        [  0.6017,   0.4234,   0.5224]])\n",
      "tensor([[3.0000, 0.2131, 0.3957],\n",
      "        [0.6017, 0.4234, 0.5224]])\n",
      "133319193222544\n",
      "133319192776912\n"
     ]
    }
   ],
   "source": [
    "# copy using clone\n",
    "x = torch.clone(a)\n",
    "\n",
    "print(x)\n",
    "\n",
    "a[0][0] = 3\n",
    "\n",
    "print(x)\n",
    "\n",
    "print(a)\n",
    "\n",
    "# both different location\n",
    "print(id(a))\n",
    "print(id(x))"
   ]
  },
  {
   "cell_type": "markdown",
   "metadata": {
    "id": "0RIITOE4hJoe"
   },
   "source": [
    "# Tensor on GPU"
   ]
  },
  {
   "cell_type": "code",
   "execution_count": 52,
   "metadata": {
    "colab": {
     "base_uri": "https://localhost:8080/"
    },
    "executionInfo": {
     "elapsed": 4,
     "status": "ok",
     "timestamp": 1740032648033,
     "user": {
      "displayName": "Md Masud Rana GUB",
      "userId": "14207477694270542702"
     },
     "user_tz": -360
    },
    "id": "dQFPLNzsg9RO",
    "outputId": "d67bfb26-c0ea-474e-e4a0-14914ac8b452"
   },
   "outputs": [
    {
     "name": "stdout",
     "output_type": "stream",
     "text": [
      "True\n"
     ]
    }
   ],
   "source": [
    "currentDevice = torch.cuda.is_available()\n",
    "print(currentDevice)"
   ]
  },
  {
   "cell_type": "code",
   "execution_count": 53,
   "metadata": {
    "colab": {
     "base_uri": "https://localhost:8080/"
    },
    "executionInfo": {
     "elapsed": 189,
     "status": "ok",
     "timestamp": 1740032648222,
     "user": {
      "displayName": "Md Masud Rana GUB",
      "userId": "14207477694270542702"
     },
     "user_tz": -360
    },
    "id": "t9bRcvVihYCt",
    "outputId": "2e0296d7-bdb9-4c58-9c89-04109f9f131c"
   },
   "outputs": [
    {
     "name": "stdout",
     "output_type": "stream",
     "text": [
      "tensor([[0.3563, 0.0303, 0.7088],\n",
      "        [0.2009, 0.0224, 0.9896]], device='cuda:0')\n"
     ]
    }
   ],
   "source": [
    "# creating a tensor on GPU\n",
    "device = torch.device('cuda')\n",
    "a = torch.rand((2, 3), device=device)\n",
    "print(a)"
   ]
  },
  {
   "cell_type": "code",
   "execution_count": 54,
   "metadata": {
    "colab": {
     "base_uri": "https://localhost:8080/"
    },
    "executionInfo": {
     "elapsed": 5,
     "status": "ok",
     "timestamp": 1740032648228,
     "user": {
      "displayName": "Md Masud Rana GUB",
      "userId": "14207477694270542702"
     },
     "user_tz": -360
    },
    "id": "Qtz6T6BnhoKW",
    "outputId": "46914626-a3b0-4c0a-f753-adf3da1e280b"
   },
   "outputs": [
    {
     "name": "stdout",
     "output_type": "stream",
     "text": [
      "tensor([[0.4175, 0.0340, 0.9157],\n",
      "        [0.3079, 0.6269, 0.8277]])\n",
      "tensor([[0.4175, 0.0340, 0.9157],\n",
      "        [0.3079, 0.6269, 0.8277]], device='cuda:0')\n"
     ]
    }
   ],
   "source": [
    "# move existing tensor to GPU\n",
    "m = torch.rand(2, 3)\n",
    "print(m)\n",
    "\n",
    "new = m.to(device)\n",
    "\n",
    "print(new)"
   ]
  },
  {
   "cell_type": "markdown",
   "metadata": {
    "id": "DZTptRIOi_id"
   },
   "source": [
    "# CPU vs GPU Performance tesnting"
   ]
  },
  {
   "cell_type": "code",
   "execution_count": 55,
   "metadata": {
    "colab": {
     "base_uri": "https://localhost:8080/"
    },
    "executionInfo": {
     "elapsed": 30443,
     "status": "ok",
     "timestamp": 1740032678670,
     "user": {
      "displayName": "Md Masud Rana GUB",
      "userId": "14207477694270542702"
     },
     "user_tz": -360
    },
    "id": "OkvlnVssjDTV",
    "outputId": "485e4d5e-46a7-4dc0-8729-d99024247d66"
   },
   "outputs": [
    {
     "name": "stdout",
     "output_type": "stream",
     "text": [
      "Time on CPU: 23.4997341632843 seconds\n",
      "Time on GPU: 0.6798923015594482 seconds\n",
      "\n",
      "Speedup (CPU time / GPU time): 34.563906826689575\n"
     ]
    }
   ],
   "source": [
    "# same size matrix multiplication on cpu and gpu and calculate time\n",
    "import time\n",
    "\n",
    "# define the size of the matrix\n",
    "size = 10000\n",
    "\n",
    "# create two random matrix\n",
    "matrix_cpu1 = torch.randn(size, size)\n",
    "matrix_cpu2 = torch.rand(size, size)\n",
    "\n",
    "# measure time on CPU\n",
    "start_time = time.time()\n",
    "result_cpu = torch.matmul(matrix_cpu1, matrix_cpu2) # matrix multiplication on CPU\n",
    "cpu_time = time.time() - start_time\n",
    "\n",
    "print(f\"Time on CPU: {cpu_time} seconds\")\n",
    "\n",
    "\n",
    "# move matrix to GPU\n",
    "matrix_gpu1 = matrix_cpu1.to(device)\n",
    "matrix_gpu2 = matrix_cpu2.to(device)\n",
    "\n",
    "start_time = time.time()\n",
    "result_gpu = torch.matmul(matrix_gpu1, matrix_gpu2)\n",
    "torch.cuda.synchronize() # ensure all GPU operations are complete\n",
    "gpu_time = time.time() - start_time\n",
    "\n",
    "print(f\"Time on GPU: {gpu_time} seconds\")\n",
    "\n",
    "\n",
    "# compare result\n",
    "print(f\"\\nSpeedup (CPU time / GPU time): {cpu_time / gpu_time}\")\n"
   ]
  },
  {
   "cell_type": "markdown",
   "metadata": {
    "id": "l3-kGvHwoMJl"
   },
   "source": [
    "# Reshaping Tensors"
   ]
  },
  {
   "cell_type": "code",
   "execution_count": 56,
   "metadata": {
    "colab": {
     "base_uri": "https://localhost:8080/"
    },
    "executionInfo": {
     "elapsed": 58,
     "status": "ok",
     "timestamp": 1740032678671,
     "user": {
      "displayName": "Md Masud Rana GUB",
      "userId": "14207477694270542702"
     },
     "user_tz": -360
    },
    "id": "a_FfziCvn0Gl",
    "outputId": "a4fc52d7-bffe-4af1-ad03-955ca60fb18e"
   },
   "outputs": [
    {
     "data": {
      "text/plain": [
       "tensor([[1., 1., 1., 1.],\n",
       "        [1., 1., 1., 1.],\n",
       "        [1., 1., 1., 1.],\n",
       "        [1., 1., 1., 1.]])"
      ]
     },
     "execution_count": 56,
     "metadata": {},
     "output_type": "execute_result"
    }
   ],
   "source": [
    "a = torch.ones(4, 4)\n",
    "a"
   ]
  },
  {
   "cell_type": "code",
   "execution_count": 57,
   "metadata": {
    "colab": {
     "base_uri": "https://localhost:8080/"
    },
    "executionInfo": {
     "elapsed": 20,
     "status": "ok",
     "timestamp": 1740032678671,
     "user": {
      "displayName": "Md Masud Rana GUB",
      "userId": "14207477694270542702"
     },
     "user_tz": -360
    },
    "id": "hj4SI5YaoRMN",
    "outputId": "bb151606-be56-47c4-f2ab-fb2d1fe7acd9"
   },
   "outputs": [
    {
     "data": {
      "text/plain": [
       "tensor([[[[1., 1.],\n",
       "          [1., 1.]],\n",
       "\n",
       "         [[1., 1.],\n",
       "          [1., 1.]]],\n",
       "\n",
       "\n",
       "        [[[1., 1.],\n",
       "          [1., 1.]],\n",
       "\n",
       "         [[1., 1.],\n",
       "          [1., 1.]]]])"
      ]
     },
     "execution_count": 57,
     "metadata": {},
     "output_type": "execute_result"
    }
   ],
   "source": [
    "# reshape\n",
    "a.reshape(2, 2, 2, 2)"
   ]
  },
  {
   "cell_type": "code",
   "execution_count": 58,
   "metadata": {
    "colab": {
     "base_uri": "https://localhost:8080/"
    },
    "executionInfo": {
     "elapsed": 19,
     "status": "ok",
     "timestamp": 1740032678672,
     "user": {
      "displayName": "Md Masud Rana GUB",
      "userId": "14207477694270542702"
     },
     "user_tz": -360
    },
    "id": "D5XoRchdoVRs",
    "outputId": "2f73430a-c5e4-46af-feb7-21ef67aeb0e6"
   },
   "outputs": [
    {
     "data": {
      "text/plain": [
       "tensor([1., 1., 1., 1., 1., 1., 1., 1., 1., 1., 1., 1., 1., 1., 1., 1.])"
      ]
     },
     "execution_count": 58,
     "metadata": {},
     "output_type": "execute_result"
    }
   ],
   "source": [
    "# flatten\n",
    "a.flatten()"
   ]
  },
  {
   "cell_type": "code",
   "execution_count": 59,
   "metadata": {
    "colab": {
     "base_uri": "https://localhost:8080/"
    },
    "executionInfo": {
     "elapsed": 17,
     "status": "ok",
     "timestamp": 1740032678672,
     "user": {
      "displayName": "Md Masud Rana GUB",
      "userId": "14207477694270542702"
     },
     "user_tz": -360
    },
    "id": "pPMdLFOcoblU",
    "outputId": "52a731e5-970c-4111-ef23-6e08f2274dbc"
   },
   "outputs": [
    {
     "name": "stdout",
     "output_type": "stream",
     "text": [
      "tensor([[[0.1174, 0.6532, 0.5115, 0.3094],\n",
      "         [0.7907, 0.7351, 0.2693, 0.8009],\n",
      "         [0.5839, 0.0061, 0.4671, 0.8243]],\n",
      "\n",
      "        [[0.2861, 0.7459, 0.8487, 0.4059],\n",
      "         [0.2883, 0.2220, 0.6423, 0.7098],\n",
      "         [0.5644, 0.4549, 0.0729, 0.8535]]])\n"
     ]
    }
   ],
   "source": [
    "b = torch.rand(2, 3, 4)\n",
    "print(b)"
   ]
  },
  {
   "cell_type": "code",
   "execution_count": 60,
   "metadata": {
    "colab": {
     "base_uri": "https://localhost:8080/"
    },
    "executionInfo": {
     "elapsed": 18,
     "status": "ok",
     "timestamp": 1740032678677,
     "user": {
      "displayName": "Md Masud Rana GUB",
      "userId": "14207477694270542702"
     },
     "user_tz": -360
    },
    "id": "-BN_b3b8o678",
    "outputId": "aeafb3ba-b752-470e-9ef6-f623c3fc3e91"
   },
   "outputs": [
    {
     "data": {
      "text/plain": [
       "tensor([[[0.1174, 0.7907, 0.5839],\n",
       "         [0.2861, 0.2883, 0.5644]],\n",
       "\n",
       "        [[0.6532, 0.7351, 0.0061],\n",
       "         [0.7459, 0.2220, 0.4549]],\n",
       "\n",
       "        [[0.5115, 0.2693, 0.4671],\n",
       "         [0.8487, 0.6423, 0.0729]],\n",
       "\n",
       "        [[0.3094, 0.8009, 0.8243],\n",
       "         [0.4059, 0.7098, 0.8535]]])"
      ]
     },
     "execution_count": 60,
     "metadata": {},
     "output_type": "execute_result"
    }
   ],
   "source": [
    "# permute\n",
    "b.permute(2, 0, 1)"
   ]
  },
  {
   "cell_type": "code",
   "execution_count": 63,
   "metadata": {
    "colab": {
     "base_uri": "https://localhost:8080/"
    },
    "executionInfo": {
     "elapsed": 11,
     "status": "ok",
     "timestamp": 1740032720015,
     "user": {
      "displayName": "Md Masud Rana GUB",
      "userId": "14207477694270542702"
     },
     "user_tz": -360
    },
    "id": "16XhUf9ZpABs",
    "outputId": "6ed3b7d3-5699-4046-e80d-c74d4b577879"
   },
   "outputs": [
    {
     "data": {
      "text/plain": [
       "torch.Size([226, 1, 226, 3])"
      ]
     },
     "execution_count": 63,
     "metadata": {},
     "output_type": "execute_result"
    }
   ],
   "source": [
    "# unsqueeze\n",
    "# image size\n",
    "c = torch.rand(226, 226, 3)\n",
    "\n",
    "c.unsqueeze(0).shape\n",
    "c.unsqueeze(1).shape"
   ]
  },
  {
   "cell_type": "markdown",
   "metadata": {
    "id": "GlWPhzxWCXwx"
   },
   "source": [
    "# Numpy and PyTorch"
   ]
  },
  {
   "cell_type": "code",
   "execution_count": 64,
   "metadata": {
    "executionInfo": {
     "elapsed": 2,
     "status": "ok",
     "timestamp": 1740032833856,
     "user": {
      "displayName": "Md Masud Rana GUB",
      "userId": "14207477694270542702"
     },
     "user_tz": -360
    },
    "id": "B-jjIhJsCXcK"
   },
   "outputs": [],
   "source": [
    "import numpy as np"
   ]
  },
  {
   "cell_type": "code",
   "execution_count": 65,
   "metadata": {
    "colab": {
     "base_uri": "https://localhost:8080/"
    },
    "executionInfo": {
     "elapsed": 6,
     "status": "ok",
     "timestamp": 1740032868682,
     "user": {
      "displayName": "Md Masud Rana GUB",
      "userId": "14207477694270542702"
     },
     "user_tz": -360
    },
    "id": "HowHS9j4CfgJ",
    "outputId": "4f5116f5-f07c-411c-d62f-6c45e10a6239"
   },
   "outputs": [
    {
     "data": {
      "text/plain": [
       "tensor([1, 2, 3])"
      ]
     },
     "execution_count": 65,
     "metadata": {},
     "output_type": "execute_result"
    }
   ],
   "source": [
    "a = torch.tensor([1, 2, 3])\n",
    "a"
   ]
  },
  {
   "cell_type": "code",
   "execution_count": 66,
   "metadata": {
    "colab": {
     "base_uri": "https://localhost:8080/"
    },
    "executionInfo": {
     "elapsed": 6,
     "status": "ok",
     "timestamp": 1740032897617,
     "user": {
      "displayName": "Md Masud Rana GUB",
      "userId": "14207477694270542702"
     },
     "user_tz": -360
    },
    "id": "5bAhnXw0Cn-B",
    "outputId": "fe40604c-3e87-451f-ebd2-26b13475589b"
   },
   "outputs": [
    {
     "data": {
      "text/plain": [
       "array([1, 2, 3])"
      ]
     },
     "execution_count": 66,
     "metadata": {},
     "output_type": "execute_result"
    }
   ],
   "source": [
    "# tensor to numpy convert\n",
    "b = a.numpy()\n",
    "b"
   ]
  },
  {
   "cell_type": "code",
   "execution_count": 67,
   "metadata": {
    "colab": {
     "base_uri": "https://localhost:8080/"
    },
    "executionInfo": {
     "elapsed": 6,
     "status": "ok",
     "timestamp": 1740032907203,
     "user": {
      "displayName": "Md Masud Rana GUB",
      "userId": "14207477694270542702"
     },
     "user_tz": -360
    },
    "id": "SwnDeJIhCudR",
    "outputId": "92416a4b-deda-4085-ef67-00b4172d675e"
   },
   "outputs": [
    {
     "data": {
      "text/plain": [
       "numpy.ndarray"
      ]
     },
     "execution_count": 67,
     "metadata": {},
     "output_type": "execute_result"
    }
   ],
   "source": [
    "type(b)"
   ]
  },
  {
   "cell_type": "code",
   "execution_count": 69,
   "metadata": {
    "colab": {
     "base_uri": "https://localhost:8080/"
    },
    "executionInfo": {
     "elapsed": 5,
     "status": "ok",
     "timestamp": 1740032937489,
     "user": {
      "displayName": "Md Masud Rana GUB",
      "userId": "14207477694270542702"
     },
     "user_tz": -360
    },
    "id": "mgsKHZjhCxX5",
    "outputId": "e345fe1b-46d5-4007-d66e-d4d994f526e2"
   },
   "outputs": [
    {
     "name": "stdout",
     "output_type": "stream",
     "text": [
      "[1 2 3]\n"
     ]
    },
    {
     "data": {
      "text/plain": [
       "numpy.ndarray"
      ]
     },
     "execution_count": 69,
     "metadata": {},
     "output_type": "execute_result"
    }
   ],
   "source": [
    "c = np.array([1, 2, 3])\n",
    "print(c)\n",
    "type(c)"
   ]
  },
  {
   "cell_type": "code",
   "execution_count": 71,
   "metadata": {
    "colab": {
     "base_uri": "https://localhost:8080/"
    },
    "executionInfo": {
     "elapsed": 16,
     "status": "ok",
     "timestamp": 1740033004278,
     "user": {
      "displayName": "Md Masud Rana GUB",
      "userId": "14207477694270542702"
     },
     "user_tz": -360
    },
    "id": "2nDrNON2C4qx",
    "outputId": "5beba24f-bbc6-4880-d5c7-88270064b4a4"
   },
   "outputs": [
    {
     "data": {
      "text/plain": [
       "array([10, 20, 30])"
      ]
     },
     "execution_count": 71,
     "metadata": {},
     "output_type": "execute_result"
    }
   ],
   "source": [
    "# convert numpy to tensor\n",
    "x = np.array([10, 20, 30])\n",
    "x"
   ]
  },
  {
   "cell_type": "code",
   "execution_count": null,
   "metadata": {
    "id": "LxhoxxedDIKp"
   },
   "outputs": [],
   "source": [
    "torch.fr"
   ]
  }
 ],
 "metadata": {
  "accelerator": "GPU",
  "colab": {
   "authorship_tag": "ABX9TyMOcF0JU9oSx6+1kCgBwXXh",
   "collapsed_sections": [
    "bWNpDFlrZDJ3",
    "NOqMXcrftbRx",
    "MBxx4QbQuM6Y",
    "A-eLR1GXvxPX",
    "2EffeEqywhDA"
   ],
   "gpuType": "T4",
   "provenance": [],
   "toc_visible": true
  },
  "kernelspec": {
   "display_name": "base",
   "language": "python",
   "name": "python3"
  },
  "language_info": {
   "name": "python",
   "version": "3.12.7"
  }
 },
 "nbformat": 4,
 "nbformat_minor": 0
}
