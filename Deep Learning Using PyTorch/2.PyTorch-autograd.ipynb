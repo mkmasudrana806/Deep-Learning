{
 "cells": [
  {
   "cell_type": "markdown",
   "metadata": {
    "id": "3ra24wgbYFiy"
   },
   "source": [
    "# simple derivative"
   ]
  },
  {
   "cell_type": "code",
   "execution_count": 7,
   "metadata": {
    "colab": {
     "base_uri": "https://localhost:8080/"
    },
    "executionInfo": {
     "elapsed": 14,
     "status": "ok",
     "timestamp": 1740038218750,
     "user": {
      "displayName": "Md Masud Rana GUB",
      "userId": "14207477694270542702"
     },
     "user_tz": -360
    },
    "id": "Lk3B6slFDaLX",
    "outputId": "d4228952-a15f-48f4-c997-9ca99533d581"
   },
   "outputs": [
    {
     "data": {
      "text/plain": [
       "tensor(6.2000)"
      ]
     },
     "execution_count": 7,
     "metadata": {},
     "output_type": "execute_result"
    }
   ],
   "source": [
    "import torch\n",
    "\n",
    "x = torch.tensor(3.1, requires_grad=True)\n",
    "y = x**2\n",
    "\n",
    "y.backward()\n",
    "x.grad"
   ]
  },
  {
   "cell_type": "code",
   "execution_count": 2,
   "metadata": {
    "executionInfo": {
     "elapsed": 45,
     "status": "ok",
     "timestamp": 1740037716908,
     "user": {
      "displayName": "Md Masud Rana GUB",
      "userId": "14207477694270542702"
     },
     "user_tz": -360
    },
    "id": "EoRdCOuYU1Ph"
   },
   "outputs": [],
   "source": [
    "x = torch.tensor(3.0, requires_grad=True)"
   ]
  },
  {
   "cell_type": "code",
   "execution_count": 3,
   "metadata": {
    "executionInfo": {
     "elapsed": 16,
     "status": "ok",
     "timestamp": 1740037727801,
     "user": {
      "displayName": "Md Masud Rana GUB",
      "userId": "14207477694270542702"
     },
     "user_tz": -360
    },
    "id": "1wvriJAeVHpo"
   },
   "outputs": [],
   "source": [
    "y = x**2\n"
   ]
  },
  {
   "cell_type": "code",
   "execution_count": 4,
   "metadata": {
    "colab": {
     "base_uri": "https://localhost:8080/"
    },
    "executionInfo": {
     "elapsed": 52,
     "status": "ok",
     "timestamp": 1740037735922,
     "user": {
      "displayName": "Md Masud Rana GUB",
      "userId": "14207477694270542702"
     },
     "user_tz": -360
    },
    "id": "yo2tIMRaVKUp",
    "outputId": "51fe307f-1d2c-4391-f82b-ea482fdbf2a8"
   },
   "outputs": [
    {
     "name": "stdout",
     "output_type": "stream",
     "text": [
      "tensor(3., requires_grad=True)\n",
      "tensor(9., grad_fn=<PowBackward0>)\n"
     ]
    }
   ],
   "source": [
    "print(x)\n",
    "print(y)"
   ]
  },
  {
   "cell_type": "code",
   "execution_count": 5,
   "metadata": {
    "executionInfo": {
     "elapsed": 29,
     "status": "ok",
     "timestamp": 1740037907384,
     "user": {
      "displayName": "Md Masud Rana GUB",
      "userId": "14207477694270542702"
     },
     "user_tz": -360
    },
    "id": "4UTzIUPWVMTA"
   },
   "outputs": [],
   "source": [
    "y.backward()"
   ]
  },
  {
   "cell_type": "code",
   "execution_count": 6,
   "metadata": {
    "colab": {
     "base_uri": "https://localhost:8080/"
    },
    "executionInfo": {
     "elapsed": 10,
     "status": "ok",
     "timestamp": 1740037925218,
     "user": {
      "displayName": "Md Masud Rana GUB",
      "userId": "14207477694270542702"
     },
     "user_tz": -360
    },
    "id": "yyrElpvsV2KR",
    "outputId": "edbe4c85-60d9-4a78-8798-12db69ffd9d0"
   },
   "outputs": [
    {
     "data": {
      "text/plain": [
       "tensor(6.)"
      ]
     },
     "execution_count": 6,
     "metadata": {},
     "output_type": "execute_result"
    }
   ],
   "source": [
    "x.grad"
   ]
  },
  {
   "cell_type": "markdown",
   "metadata": {
    "id": "szJRwg2HYIgw"
   },
   "source": [
    "# nested derivative\n",
    "y = x^2, z = sin(y)"
   ]
  },
  {
   "cell_type": "code",
   "execution_count": 8,
   "metadata": {
    "executionInfo": {
     "elapsed": 2,
     "status": "ok",
     "timestamp": 1740038538571,
     "user": {
      "displayName": "Md Masud Rana GUB",
      "userId": "14207477694270542702"
     },
     "user_tz": -360
    },
    "id": "JWZph9ybV6hX"
   },
   "outputs": [],
   "source": [
    "x = torch.tensor(3.0, requires_grad=True)"
   ]
  },
  {
   "cell_type": "code",
   "execution_count": 9,
   "metadata": {
    "executionInfo": {
     "elapsed": 6,
     "status": "ok",
     "timestamp": 1740038542468,
     "user": {
      "displayName": "Md Masud Rana GUB",
      "userId": "14207477694270542702"
     },
     "user_tz": -360
    },
    "id": "DGaXUepKYQAZ"
   },
   "outputs": [],
   "source": [
    "y = x ** 2"
   ]
  },
  {
   "cell_type": "code",
   "execution_count": 10,
   "metadata": {
    "executionInfo": {
     "elapsed": 16,
     "status": "ok",
     "timestamp": 1740038551945,
     "user": {
      "displayName": "Md Masud Rana GUB",
      "userId": "14207477694270542702"
     },
     "user_tz": -360
    },
    "id": "lJ1etB1sYRGY"
   },
   "outputs": [],
   "source": [
    "z = torch.sin(y)"
   ]
  },
  {
   "cell_type": "code",
   "execution_count": 11,
   "metadata": {
    "colab": {
     "base_uri": "https://localhost:8080/"
    },
    "executionInfo": {
     "elapsed": 20,
     "status": "ok",
     "timestamp": 1740038564264,
     "user": {
      "displayName": "Md Masud Rana GUB",
      "userId": "14207477694270542702"
     },
     "user_tz": -360
    },
    "id": "JxkR82SpYThg",
    "outputId": "44429508-db2b-4a40-e01b-9b995422c646"
   },
   "outputs": [
    {
     "name": "stdout",
     "output_type": "stream",
     "text": [
      "tensor(3., requires_grad=True)\n",
      "tensor(9., grad_fn=<PowBackward0>)\n",
      "tensor(0.4121, grad_fn=<SinBackward0>)\n"
     ]
    }
   ],
   "source": [
    "print(x)\n",
    "print(y)\n",
    "print(z)"
   ]
  },
  {
   "cell_type": "code",
   "execution_count": 12,
   "metadata": {
    "executionInfo": {
     "elapsed": 2,
     "status": "ok",
     "timestamp": 1740038697730,
     "user": {
      "displayName": "Md Masud Rana GUB",
      "userId": "14207477694270542702"
     },
     "user_tz": -360
    },
    "id": "fnn3n2SAYWiR"
   },
   "outputs": [],
   "source": [
    "z.backward()"
   ]
  },
  {
   "cell_type": "code",
   "execution_count": 13,
   "metadata": {
    "colab": {
     "base_uri": "https://localhost:8080/"
    },
    "executionInfo": {
     "elapsed": 11,
     "status": "ok",
     "timestamp": 1740038702614,
     "user": {
      "displayName": "Md Masud Rana GUB",
      "userId": "14207477694270542702"
     },
     "user_tz": -360
    },
    "id": "56Q2wIeLY26o",
    "outputId": "83f30a48-6e15-4638-d580-90fdf4c00779"
   },
   "outputs": [
    {
     "data": {
      "text/plain": [
       "tensor(-5.4668)"
      ]
     },
     "execution_count": 13,
     "metadata": {},
     "output_type": "execute_result"
    }
   ],
   "source": [
    "x.grad"
   ]
  },
  {
   "cell_type": "markdown",
   "metadata": {
    "id": "aAX6IiJebDWC"
   },
   "source": [
    "# simple perceptron derivative calculation using raw derivative"
   ]
  },
  {
   "cell_type": "code",
   "execution_count": 14,
   "metadata": {
    "executionInfo": {
     "elapsed": 19,
     "status": "ok",
     "timestamp": 1740039359220,
     "user": {
      "displayName": "Md Masud Rana GUB",
      "userId": "14207477694270542702"
     },
     "user_tz": -360
    },
    "id": "XVYHkFzEY4TA"
   },
   "outputs": [],
   "source": [
    "# Inputs\n",
    "x = torch.tensor(6.7) # Input feature\n",
    "y = torch.tensor(0.0) # True label (binary)\n",
    "\n",
    "w = torch.tensor(1.0) # Weight\n",
    "b = torch.tensor(0.0) # Bias"
   ]
  },
  {
   "cell_type": "code",
   "execution_count": 15,
   "metadata": {
    "executionInfo": {
     "elapsed": 4,
     "status": "ok",
     "timestamp": 1740039493830,
     "user": {
      "displayName": "Md Masud Rana GUB",
      "userId": "14207477694270542702"
     },
     "user_tz": -360
    },
    "id": "2SZx0YqPbYaS"
   },
   "outputs": [],
   "source": [
    "# Binary Cross-Entropy Loss for scalar\n",
    "def binary_cross_entropy_loss(prediction, target):\n",
    "  epsilon = 1e-8 # To prevent log(0)\n",
    "  prediction = torch.clamp(prediction, epsilon, 1 - epsilon)\n",
    "  return -(target * torch.log(prediction) + (1 - target) * torch.log(1 - prediction))"
   ]
  },
  {
   "cell_type": "code",
   "execution_count": 17,
   "metadata": {
    "executionInfo": {
     "elapsed": 19,
     "status": "ok",
     "timestamp": 1740039733243,
     "user": {
      "displayName": "Md Masud Rana GUB",
      "userId": "14207477694270542702"
     },
     "user_tz": -360
    },
    "id": "oeNgVELJb5ea"
   },
   "outputs": [],
   "source": [
    "# Forward pass\n",
    "z = w * x + b # Weighted sum (linear part)\n",
    "\n",
    "y_pred = torch.sigmoid(z) # Predicted successfully\n",
    "\n",
    "# Compute binary cross-entropy loss\n",
    "loss = binary_cross_entropy_loss(y_pred, y)"
   ]
  },
  {
   "cell_type": "code",
   "execution_count": 18,
   "metadata": {
    "colab": {
     "base_uri": "https://localhost:8080/"
    },
    "executionInfo": {
     "elapsed": 13,
     "status": "ok",
     "timestamp": 1740039735910,
     "user": {
      "displayName": "Md Masud Rana GUB",
      "userId": "14207477694270542702"
     },
     "user_tz": -360
    },
    "id": "ecbbr6Okcvaz",
    "outputId": "bbf5eb4b-ba80-44da-be00-47058bef7e5f"
   },
   "outputs": [
    {
     "name": "stdout",
     "output_type": "stream",
     "text": [
      "tensor(6.7012)\n"
     ]
    }
   ],
   "source": [
    "# print loss\n",
    "print(loss)"
   ]
  },
  {
   "cell_type": "code",
   "execution_count": 21,
   "metadata": {
    "executionInfo": {
     "elapsed": 2,
     "status": "ok",
     "timestamp": 1740040196744,
     "user": {
      "displayName": "Md Masud Rana GUB",
      "userId": "14207477694270542702"
     },
     "user_tz": -360
    },
    "id": "cSc-xZwLcxuy"
   },
   "outputs": [],
   "source": [
    "# Derivatives\n",
    "# 1. dL/d(y_pred): Loss with respect to the prediction (y_pred)\n",
    "dloss_dy_pred = (y_pred - y) / (y_pred * (1-y_pred))\n",
    "\n",
    "# 2. dy_pred/dz: Prediction (y_pred) with respect to z (sigmoid derivative)\n",
    "dy_pred_dz = y_pred * (1 - y_pred)\n",
    "\n",
    "# 3. dz/dw and dz/db: z with respect to w and b\n",
    "dz_dw = x # dz/dw = x\n",
    "dz_db = 1 # dz/db = 1 (bias contributes directly to z)\n",
    "\n",
    "\n",
    "dL_dw = dloss_dy_pred * dy_pred_dz * dz_dw\n",
    "dL_db = dloss_dy_pred * dy_pred_dz * dz_db\n",
    "\n"
   ]
  },
  {
   "cell_type": "code",
   "execution_count": 22,
   "metadata": {
    "colab": {
     "base_uri": "https://localhost:8080/"
    },
    "executionInfo": {
     "elapsed": 23,
     "status": "ok",
     "timestamp": 1740040199696,
     "user": {
      "displayName": "Md Masud Rana GUB",
      "userId": "14207477694270542702"
     },
     "user_tz": -360
    },
    "id": "TRS3oUQGeJ67",
    "outputId": "9be8db8a-2d7c-40e9-d0f0-5085d34c8d10"
   },
   "outputs": [
    {
     "name": "stdout",
     "output_type": "stream",
     "text": [
      "Manual Gradient of loss w.r.t weight (dw): 6.691762447357178\n",
      "Manual Gradient of loss w.r.t bias (db): 0.998770534992218\n"
     ]
    }
   ],
   "source": [
    "print(f\"Manual Gradient of loss w.r.t weight (dw): {dL_dw}\")\n",
    "print(f\"Manual Gradient of loss w.r.t bias (db): {dL_db}\")\n",
    "\n"
   ]
  },
  {
   "cell_type": "markdown",
   "metadata": {
    "id": "dipiYXkdenDi"
   },
   "source": [
    "# simple perceptron training using torc.autograd package"
   ]
  },
  {
   "cell_type": "code",
   "execution_count": 23,
   "metadata": {
    "executionInfo": {
     "elapsed": 2,
     "status": "ok",
     "timestamp": 1740040241216,
     "user": {
      "displayName": "Md Masud Rana GUB",
      "userId": "14207477694270542702"
     },
     "user_tz": -360
    },
    "id": "y1UvEHF8eXqr"
   },
   "outputs": [],
   "source": [
    "x = torch.tensor(6.7)\n",
    "y = torch.tensor(0.0)\n"
   ]
  },
  {
   "cell_type": "code",
   "execution_count": 25,
   "metadata": {
    "colab": {
     "base_uri": "https://localhost:8080/"
    },
    "executionInfo": {
     "elapsed": 18,
     "status": "ok",
     "timestamp": 1740040286946,
     "user": {
      "displayName": "Md Masud Rana GUB",
      "userId": "14207477694270542702"
     },
     "user_tz": -360
    },
    "id": "PBMbJYw8ev2i",
    "outputId": "02cd7337-9d6b-449c-d440-0b23ab3d07f2"
   },
   "outputs": [
    {
     "name": "stdout",
     "output_type": "stream",
     "text": [
      "tensor(1., requires_grad=True)\n",
      "tensor(0., requires_grad=True)\n"
     ]
    }
   ],
   "source": [
    "w = torch.tensor(1.0, requires_grad=True)\n",
    "b = torch.tensor(0.0, requires_grad=True)\n",
    "\n",
    "print(w)\n",
    "print(b)"
   ]
  },
  {
   "cell_type": "code",
   "execution_count": 27,
   "metadata": {
    "colab": {
     "base_uri": "https://localhost:8080/"
    },
    "executionInfo": {
     "elapsed": 21,
     "status": "ok",
     "timestamp": 1740040312386,
     "user": {
      "displayName": "Md Masud Rana GUB",
      "userId": "14207477694270542702"
     },
     "user_tz": -360
    },
    "id": "NwdP_FlQe4ua",
    "outputId": "a3863fc4-e1ef-4efc-a204-0541fc452cdf"
   },
   "outputs": [
    {
     "name": "stdout",
     "output_type": "stream",
     "text": [
      "tensor(6.7000, grad_fn=<AddBackward0>)\n"
     ]
    }
   ],
   "source": [
    "z = w*x + b\n",
    "\n",
    "print(z)"
   ]
  },
  {
   "cell_type": "code",
   "execution_count": 28,
   "metadata": {
    "colab": {
     "base_uri": "https://localhost:8080/"
    },
    "executionInfo": {
     "elapsed": 11,
     "status": "ok",
     "timestamp": 1740040334282,
     "user": {
      "displayName": "Md Masud Rana GUB",
      "userId": "14207477694270542702"
     },
     "user_tz": -360
    },
    "id": "t99lKHTHe_ei",
    "outputId": "defad743-cd8e-48f1-feec-4ded6eccefd3"
   },
   "outputs": [
    {
     "name": "stdout",
     "output_type": "stream",
     "text": [
      "tensor(0.9988, grad_fn=<SigmoidBackward0>)\n"
     ]
    }
   ],
   "source": [
    "y_pred = torch.sigmoid(z)\n",
    "\n",
    "print(y_pred)"
   ]
  },
  {
   "cell_type": "code",
   "execution_count": 30,
   "metadata": {
    "colab": {
     "base_uri": "https://localhost:8080/"
    },
    "executionInfo": {
     "elapsed": 11,
     "status": "ok",
     "timestamp": 1740040361544,
     "user": {
      "displayName": "Md Masud Rana GUB",
      "userId": "14207477694270542702"
     },
     "user_tz": -360
    },
    "id": "Yyb0fXjvfGqy",
    "outputId": "79058b8d-e1ec-4798-c2cf-835a5543607f"
   },
   "outputs": [
    {
     "name": "stdout",
     "output_type": "stream",
     "text": [
      "tensor(6.7012, grad_fn=<NegBackward0>)\n"
     ]
    }
   ],
   "source": [
    "loss = binary_cross_entropy_loss(y_pred, y)\n",
    "\n",
    "print(loss)"
   ]
  },
  {
   "cell_type": "code",
   "execution_count": 31,
   "metadata": {
    "executionInfo": {
     "elapsed": 5,
     "status": "ok",
     "timestamp": 1740040462584,
     "user": {
      "displayName": "Md Masud Rana GUB",
      "userId": "14207477694270542702"
     },
     "user_tz": -360
    },
    "id": "rQ142d-BfLvE"
   },
   "outputs": [],
   "source": [
    "loss.backward()"
   ]
  },
  {
   "cell_type": "code",
   "execution_count": 32,
   "metadata": {
    "colab": {
     "base_uri": "https://localhost:8080/"
    },
    "executionInfo": {
     "elapsed": 5,
     "status": "ok",
     "timestamp": 1740040473360,
     "user": {
      "displayName": "Md Masud Rana GUB",
      "userId": "14207477694270542702"
     },
     "user_tz": -360
    },
    "id": "CJL5t4B8fl_S",
    "outputId": "5944fc1c-9cac-4753-bcef-1e85610ed13a"
   },
   "outputs": [
    {
     "data": {
      "text/plain": [
       "tensor(6.6918)"
      ]
     },
     "execution_count": 32,
     "metadata": {},
     "output_type": "execute_result"
    }
   ],
   "source": [
    "w.grad"
   ]
  },
  {
   "cell_type": "code",
   "execution_count": 33,
   "metadata": {
    "colab": {
     "base_uri": "https://localhost:8080/"
    },
    "executionInfo": {
     "elapsed": 5,
     "status": "ok",
     "timestamp": 1740040477216,
     "user": {
      "displayName": "Md Masud Rana GUB",
      "userId": "14207477694270542702"
     },
     "user_tz": -360
    },
    "id": "sAVjAcSifodc",
    "outputId": "17f5d4fa-1a00-4250-b8e2-65d3e1859b12"
   },
   "outputs": [
    {
     "data": {
      "text/plain": [
       "tensor(0.9988)"
      ]
     },
     "execution_count": 33,
     "metadata": {},
     "output_type": "execute_result"
    }
   ],
   "source": [
    "b.grad"
   ]
  },
  {
   "cell_type": "markdown",
   "metadata": {
    "id": "IjIQ6FdkgTn0"
   },
   "source": [
    "# vector derivative using torch"
   ]
  },
  {
   "cell_type": "code",
   "execution_count": 34,
   "metadata": {
    "colab": {
     "base_uri": "https://localhost:8080/"
    },
    "executionInfo": {
     "elapsed": 26,
     "status": "ok",
     "timestamp": 1740040681339,
     "user": {
      "displayName": "Md Masud Rana GUB",
      "userId": "14207477694270542702"
     },
     "user_tz": -360
    },
    "id": "1ju7LfKffpdT",
    "outputId": "e1cdce5f-bf88-4e3e-b0a1-58c1a54e162e"
   },
   "outputs": [
    {
     "name": "stdout",
     "output_type": "stream",
     "text": [
      "tensor([1., 2., 3.], requires_grad=True)\n"
     ]
    }
   ],
   "source": [
    "x = torch.tensor([1.0, 2.0, 3.0], requires_grad=True)\n",
    "print(x)"
   ]
  },
  {
   "cell_type": "code",
   "execution_count": 35,
   "metadata": {
    "colab": {
     "base_uri": "https://localhost:8080/"
    },
    "executionInfo": {
     "elapsed": 8,
     "status": "ok",
     "timestamp": 1740040696537,
     "user": {
      "displayName": "Md Masud Rana GUB",
      "userId": "14207477694270542702"
     },
     "user_tz": -360
    },
    "id": "ec4GJHqvgbTL",
    "outputId": "117aa622-86b3-48bc-87a8-0dc4df5cedc6"
   },
   "outputs": [
    {
     "name": "stdout",
     "output_type": "stream",
     "text": [
      "tensor(4.6667, grad_fn=<MeanBackward0>)\n"
     ]
    }
   ],
   "source": [
    "y = (x**2).mean()\n",
    "print(y)"
   ]
  },
  {
   "cell_type": "code",
   "execution_count": 36,
   "metadata": {
    "executionInfo": {
     "elapsed": 1,
     "status": "ok",
     "timestamp": 1740040725219,
     "user": {
      "displayName": "Md Masud Rana GUB",
      "userId": "14207477694270542702"
     },
     "user_tz": -360
    },
    "id": "iVdbvZjNgfF7"
   },
   "outputs": [],
   "source": [
    "y.backward()"
   ]
  },
  {
   "cell_type": "code",
   "execution_count": 37,
   "metadata": {
    "colab": {
     "base_uri": "https://localhost:8080/"
    },
    "executionInfo": {
     "elapsed": 31,
     "status": "ok",
     "timestamp": 1740040735414,
     "user": {
      "displayName": "Md Masud Rana GUB",
      "userId": "14207477694270542702"
     },
     "user_tz": -360
    },
    "id": "vF_XFrR7glJD",
    "outputId": "d2f6e3de-7883-4400-98dc-523b528307ef"
   },
   "outputs": [
    {
     "data": {
      "text/plain": [
       "tensor([0.6667, 1.3333, 2.0000])"
      ]
     },
     "execution_count": 37,
     "metadata": {},
     "output_type": "execute_result"
    }
   ],
   "source": [
    "x.grad"
   ]
  },
  {
   "cell_type": "markdown",
   "metadata": {
    "id": "VJpeFSC_heC1"
   },
   "source": [
    "# clearing grad\n",
    "if we run this program anymore. grad always add means accumulate with previous. if we want to run multiple times, need to run x.grad.zero_()"
   ]
  },
  {
   "cell_type": "code",
   "execution_count": 47,
   "metadata": {
    "colab": {
     "base_uri": "https://localhost:8080/"
    },
    "executionInfo": {
     "elapsed": 141,
     "status": "ok",
     "timestamp": 1740041102761,
     "user": {
      "displayName": "Md Masud Rana GUB",
      "userId": "14207477694270542702"
     },
     "user_tz": -360
    },
    "id": "cclSSEqTgmWr",
    "outputId": "930ced3e-b06a-4426-e6c6-e11693043d5e"
   },
   "outputs": [
    {
     "data": {
      "text/plain": [
       "tensor(2., requires_grad=True)"
      ]
     },
     "execution_count": 47,
     "metadata": {},
     "output_type": "execute_result"
    }
   ],
   "source": [
    "x = torch.tensor(2.0, requires_grad=True)\n",
    "x"
   ]
  },
  {
   "cell_type": "code",
   "execution_count": 48,
   "metadata": {
    "colab": {
     "base_uri": "https://localhost:8080/"
    },
    "executionInfo": {
     "elapsed": 13,
     "status": "ok",
     "timestamp": 1740041103632,
     "user": {
      "displayName": "Md Masud Rana GUB",
      "userId": "14207477694270542702"
     },
     "user_tz": -360
    },
    "id": "Y9UVuRs-hiMk",
    "outputId": "dee5114d-44fc-44fd-e7bf-da9b88c535ea"
   },
   "outputs": [
    {
     "data": {
      "text/plain": [
       "tensor(4., grad_fn=<PowBackward0>)"
      ]
     },
     "execution_count": 48,
     "metadata": {},
     "output_type": "execute_result"
    }
   ],
   "source": [
    "y = x ** 2\n",
    "y"
   ]
  },
  {
   "cell_type": "code",
   "execution_count": 49,
   "metadata": {
    "executionInfo": {
     "elapsed": 6,
     "status": "ok",
     "timestamp": 1740041104806,
     "user": {
      "displayName": "Md Masud Rana GUB",
      "userId": "14207477694270542702"
     },
     "user_tz": -360
    },
    "id": "CYHMtjMfhkZb"
   },
   "outputs": [],
   "source": [
    "y.backward()"
   ]
  },
  {
   "cell_type": "code",
   "execution_count": 51,
   "metadata": {
    "colab": {
     "base_uri": "https://localhost:8080/"
    },
    "executionInfo": {
     "elapsed": 6,
     "status": "ok",
     "timestamp": 1740041108486,
     "user": {
      "displayName": "Md Masud Rana GUB",
      "userId": "14207477694270542702"
     },
     "user_tz": -360
    },
    "id": "MmhcQ53Nhlz7",
    "outputId": "0f6594b4-a5d8-4389-d61b-b21087388d5f"
   },
   "outputs": [
    {
     "data": {
      "text/plain": [
       "tensor(4.)"
      ]
     },
     "execution_count": 51,
     "metadata": {},
     "output_type": "execute_result"
    }
   ],
   "source": [
    "x.grad"
   ]
  },
  {
   "cell_type": "code",
   "execution_count": 53,
   "metadata": {
    "colab": {
     "base_uri": "https://localhost:8080/"
    },
    "executionInfo": {
     "elapsed": 10,
     "status": "ok",
     "timestamp": 1740041126596,
     "user": {
      "displayName": "Md Masud Rana GUB",
      "userId": "14207477694270542702"
     },
     "user_tz": -360
    },
    "id": "MrtxtkUrhoNL",
    "outputId": "8128fc13-0f65-44da-91f4-caecaa54d962"
   },
   "outputs": [
    {
     "data": {
      "text/plain": [
       "tensor(0.)"
      ]
     },
     "execution_count": 53,
     "metadata": {},
     "output_type": "execute_result"
    }
   ],
   "source": [
    "x.grad.zero_()"
   ]
  },
  {
   "cell_type": "code",
   "execution_count": null,
   "metadata": {
    "id": "PwF4tYwjiF1b"
   },
   "outputs": [],
   "source": []
  },
  {
   "cell_type": "markdown",
   "metadata": {
    "id": "0XNHjao3jjdc"
   },
   "source": [
    "# disable gradient tracking\n",
    "means we want only forward passing, don't want any backward passing. there are three options\n",
    "\n",
    "\n",
    "1. requires_grad=False\n",
    "\n",
    "\n",
    "2. detach()\n",
    "\n",
    "\n",
    "3. torch.no_grad()"
   ]
  },
  {
   "cell_type": "code",
   "execution_count": 66,
   "metadata": {
    "colab": {
     "base_uri": "https://localhost:8080/"
    },
    "executionInfo": {
     "elapsed": 4,
     "status": "ok",
     "timestamp": 1740042579012,
     "user": {
      "displayName": "Md Masud Rana GUB",
      "userId": "14207477694270542702"
     },
     "user_tz": -360
    },
    "id": "Wnw4P9c1jqPz",
    "outputId": "383d5964-6c25-4e45-f8d3-617e54000acd"
   },
   "outputs": [
    {
     "data": {
      "text/plain": [
       "tensor(2., requires_grad=True)"
      ]
     },
     "execution_count": 66,
     "metadata": {},
     "output_type": "execute_result"
    }
   ],
   "source": [
    "x = torch.tensor(2.0, requires_grad=True)\n",
    "x"
   ]
  },
  {
   "cell_type": "code",
   "execution_count": 56,
   "metadata": {
    "colab": {
     "base_uri": "https://localhost:8080/"
    },
    "executionInfo": {
     "elapsed": 26,
     "status": "ok",
     "timestamp": 1740041548266,
     "user": {
      "displayName": "Md Masud Rana GUB",
      "userId": "14207477694270542702"
     },
     "user_tz": -360
    },
    "id": "Qq9G8PR1jtIr",
    "outputId": "edfc41c2-0f11-44b5-b893-e8d156e6c2dd"
   },
   "outputs": [
    {
     "data": {
      "text/plain": [
       "tensor(4., grad_fn=<PowBackward0>)"
      ]
     },
     "execution_count": 56,
     "metadata": {},
     "output_type": "execute_result"
    }
   ],
   "source": [
    "y = x ** 2\n",
    "y"
   ]
  },
  {
   "cell_type": "code",
   "execution_count": 57,
   "metadata": {
    "executionInfo": {
     "elapsed": 28,
     "status": "ok",
     "timestamp": 1740041555754,
     "user": {
      "displayName": "Md Masud Rana GUB",
      "userId": "14207477694270542702"
     },
     "user_tz": -360
    },
    "id": "i1np0edNjuML"
   },
   "outputs": [],
   "source": [
    "y.backward()"
   ]
  },
  {
   "cell_type": "code",
   "execution_count": 58,
   "metadata": {
    "colab": {
     "base_uri": "https://localhost:8080/"
    },
    "executionInfo": {
     "elapsed": 40,
     "status": "ok",
     "timestamp": 1740041577879,
     "user": {
      "displayName": "Md Masud Rana GUB",
      "userId": "14207477694270542702"
     },
     "user_tz": -360
    },
    "id": "6n0V_qwcjwuL",
    "outputId": "27a6feb9-2b5e-4c0f-dc79-6a0cbb7490e4"
   },
   "outputs": [
    {
     "data": {
      "text/plain": [
       "tensor(4.)"
      ]
     },
     "execution_count": 58,
     "metadata": {},
     "output_type": "execute_result"
    }
   ],
   "source": [
    "x.grad"
   ]
  },
  {
   "cell_type": "code",
   "execution_count": 60,
   "metadata": {
    "colab": {
     "base_uri": "https://localhost:8080/"
    },
    "executionInfo": {
     "elapsed": 9,
     "status": "ok",
     "timestamp": 1740041975150,
     "user": {
      "displayName": "Md Masud Rana GUB",
      "userId": "14207477694270542702"
     },
     "user_tz": -360
    },
    "id": "VJe0Dr2kj2LT",
    "outputId": "57d202ff-50b0-4c1f-d8d9-258ed6a5d6af"
   },
   "outputs": [
    {
     "name": "stdout",
     "output_type": "stream",
     "text": [
      "tensor(2.)\n"
     ]
    }
   ],
   "source": [
    "# 1. requires_grad_(False)\n",
    "x.requires_grad_(False)\n",
    "print(x)"
   ]
  },
  {
   "cell_type": "code",
   "execution_count": 61,
   "metadata": {
    "colab": {
     "base_uri": "https://localhost:8080/"
    },
    "executionInfo": {
     "elapsed": 5,
     "status": "ok",
     "timestamp": 1740042456375,
     "user": {
      "displayName": "Md Masud Rana GUB",
      "userId": "14207477694270542702"
     },
     "user_tz": -360
    },
    "id": "YQbtFp_ylNF8",
    "outputId": "429b9d88-3435-490e-c043-5601cbd1abb1"
   },
   "outputs": [
    {
     "data": {
      "text/plain": [
       "tensor(2.)"
      ]
     },
     "execution_count": 61,
     "metadata": {},
     "output_type": "execute_result"
    }
   ],
   "source": [
    "x"
   ]
  },
  {
   "cell_type": "code",
   "execution_count": 62,
   "metadata": {
    "colab": {
     "base_uri": "https://localhost:8080/"
    },
    "executionInfo": {
     "elapsed": 5,
     "status": "ok",
     "timestamp": 1740042462007,
     "user": {
      "displayName": "Md Masud Rana GUB",
      "userId": "14207477694270542702"
     },
     "user_tz": -360
    },
    "id": "YvLeA74LnMms",
    "outputId": "ab241f59-e462-484e-96e7-7f7b6d189edf"
   },
   "outputs": [
    {
     "data": {
      "text/plain": [
       "tensor(4.)"
      ]
     },
     "execution_count": 62,
     "metadata": {},
     "output_type": "execute_result"
    }
   ],
   "source": [
    "y = x ** 2\n",
    "y"
   ]
  },
  {
   "cell_type": "code",
   "execution_count": 68,
   "metadata": {
    "colab": {
     "base_uri": "https://localhost:8080/"
    },
    "executionInfo": {
     "elapsed": 6,
     "status": "ok",
     "timestamp": 1740042595345,
     "user": {
      "displayName": "Md Masud Rana GUB",
      "userId": "14207477694270542702"
     },
     "user_tz": -360
    },
    "id": "5J5nSIJOnP_E",
    "outputId": "cf18cf25-22de-4118-d6c1-e7bc6f90e186"
   },
   "outputs": [
    {
     "data": {
      "text/plain": [
       "tensor(2.)"
      ]
     },
     "execution_count": 68,
     "metadata": {},
     "output_type": "execute_result"
    }
   ],
   "source": [
    "# 2. detach()\n",
    "# completely new tensor need to make\n",
    "z = x.detach()\n",
    "z"
   ]
  },
  {
   "cell_type": "code",
   "execution_count": 69,
   "metadata": {
    "colab": {
     "base_uri": "https://localhost:8080/"
    },
    "executionInfo": {
     "elapsed": 27,
     "status": "ok",
     "timestamp": 1740042598001,
     "user": {
      "displayName": "Md Masud Rana GUB",
      "userId": "14207477694270542702"
     },
     "user_tz": -360
    },
    "id": "ZSZsEiODnbeM",
    "outputId": "022cea7f-af88-46e8-8f35-c65042dc6f1a"
   },
   "outputs": [
    {
     "data": {
      "text/plain": [
       "tensor(4., grad_fn=<PowBackward0>)"
      ]
     },
     "execution_count": 69,
     "metadata": {},
     "output_type": "execute_result"
    }
   ],
   "source": [
    "y = x ** 2\n",
    "y"
   ]
  },
  {
   "cell_type": "code",
   "execution_count": 70,
   "metadata": {
    "colab": {
     "base_uri": "https://localhost:8080/"
    },
    "executionInfo": {
     "elapsed": 11,
     "status": "ok",
     "timestamp": 1740042691328,
     "user": {
      "displayName": "Md Masud Rana GUB",
      "userId": "14207477694270542702"
     },
     "user_tz": -360
    },
    "id": "CXBySYURneEU",
    "outputId": "d19ad6f7-d706-4290-b40e-e160d23cf334"
   },
   "outputs": [
    {
     "data": {
      "text/plain": [
       "tensor(4.)"
      ]
     },
     "execution_count": 70,
     "metadata": {},
     "output_type": "execute_result"
    }
   ],
   "source": [
    "y1 = z ** 2\n",
    "y1"
   ]
  },
  {
   "cell_type": "code",
   "execution_count": 71,
   "metadata": {
    "colab": {
     "base_uri": "https://localhost:8080/"
    },
    "executionInfo": {
     "elapsed": 5,
     "status": "ok",
     "timestamp": 1740042767370,
     "user": {
      "displayName": "Md Masud Rana GUB",
      "userId": "14207477694270542702"
     },
     "user_tz": -360
    },
    "id": "HPP064cNoGHl",
    "outputId": "f7ae9594-973f-40f9-a456-e3582ceeac3f"
   },
   "outputs": [
    {
     "data": {
      "text/plain": [
       "tensor(2., requires_grad=True)"
      ]
     },
     "execution_count": 71,
     "metadata": {},
     "output_type": "execute_result"
    }
   ],
   "source": [
    "# 3. torch.no_grad()\n",
    "x = torch.tensor(2.0, requires_grad=True)\n",
    "x"
   ]
  },
  {
   "cell_type": "code",
   "execution_count": 72,
   "metadata": {
    "executionInfo": {
     "elapsed": 1,
     "status": "ok",
     "timestamp": 1740042781164,
     "user": {
      "displayName": "Md Masud Rana GUB",
      "userId": "14207477694270542702"
     },
     "user_tz": -360
    },
    "id": "xW5Rdg6coYKF"
   },
   "outputs": [],
   "source": [
    "with torch.no_grad():\n",
    "  y = x ** 2"
   ]
  },
  {
   "cell_type": "code",
   "execution_count": 73,
   "metadata": {
    "colab": {
     "base_uri": "https://localhost:8080/"
    },
    "executionInfo": {
     "elapsed": 16,
     "status": "ok",
     "timestamp": 1740042781409,
     "user": {
      "displayName": "Md Masud Rana GUB",
      "userId": "14207477694270542702"
     },
     "user_tz": -360
    },
    "id": "_V_XbPQtobh1",
    "outputId": "6e5b7b46-9040-4717-de97-421b33163e01"
   },
   "outputs": [
    {
     "data": {
      "text/plain": [
       "tensor(4.)"
      ]
     },
     "execution_count": 73,
     "metadata": {},
     "output_type": "execute_result"
    }
   ],
   "source": [
    "y"
   ]
  },
  {
   "cell_type": "code",
   "execution_count": null,
   "metadata": {
    "id": "2Vlxw2yLog0s"
   },
   "outputs": [],
   "source": []
  }
 ],
 "metadata": {
  "colab": {
   "authorship_tag": "ABX9TyPis7oPV5DGYf91NzDkhJIQ",
   "provenance": [],
   "toc_visible": true
  },
  "kernelspec": {
   "display_name": "base",
   "language": "python",
   "name": "python3"
  },
  "language_info": {
   "name": "python",
   "version": "3.12.7"
  }
 },
 "nbformat": 4,
 "nbformat_minor": 0
}
